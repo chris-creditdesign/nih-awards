{
 "cells": [
  {
   "cell_type": "markdown",
   "metadata": {},
   "source": [
    "### Convert to \"utf-8\" encoded"
   ]
  },
  {
   "cell_type": "code",
   "execution_count": 3,
   "metadata": {
    "collapsed": false
   },
   "outputs": [],
   "source": [
    "! in2csv -e iso-8859-1 'RePORTER_PRJ_C_FY2016.csv' > sandbox.csv"
   ]
  },
  {
   "cell_type": "markdown",
   "metadata": {},
   "source": [
    "### Get a numbered list of the columns"
   ]
  },
  {
   "cell_type": "code",
   "execution_count": 4,
   "metadata": {
    "collapsed": false
   },
   "outputs": [
    {
     "name": "stdout",
     "output_type": "stream",
     "text": [
      "  1: APPLICATION_ID\r\n",
      "  2: ACTIVITY\r\n",
      "  3: ADMINISTERING_IC\r\n",
      "  4: APPLICATION_TYPE\r\n",
      "  5: ARRA_FUNDED\r\n",
      "  6: AWARD_NOTICE_DATE\r\n",
      "  7: BUDGET_START\r\n",
      "  8: BUDGET_END\r\n",
      "  9: CFDA_CODE\r\n",
      " 10: CORE_PROJECT_NUM\r\n",
      " 11: ED_INST_TYPE\r\n",
      " 12: FOA_NUMBER\r\n",
      " 13: FULL_PROJECT_NUM\r\n",
      " 14: FUNDING_ICs\r\n",
      " 15: FUNDING_MECHANISM\r\n",
      " 16: FY\r\n",
      " 17: IC_NAME\r\n",
      " 18: NIH_SPENDING_CATS\r\n",
      " 19: ORG_CITY\r\n",
      " 20: ORG_COUNTRY\r\n",
      " 21: ORG_DEPT\r\n",
      " 22: ORG_DISTRICT\r\n",
      " 23: ORG_DUNS\r\n",
      " 24: ORG_FIPS\r\n",
      " 25: ORG_NAME\r\n",
      " 26: ORG_STATE\r\n",
      " 27: ORG_ZIPCODE\r\n",
      " 28: PHR\r\n",
      " 29: PI_IDS\r\n",
      " 30: PI_NAMEs\r\n",
      " 31: PROGRAM_OFFICER_NAME\r\n",
      " 32: PROJECT_START\r\n",
      " 33: PROJECT_END\r\n",
      " 34: PROJECT_TERMS\r\n",
      " 35: PROJECT_TITLE\r\n",
      " 36: SERIAL_NUMBER\r\n",
      " 37: STUDY_SECTION\r\n",
      " 38: STUDY_SECTION_NAME\r\n",
      " 39: SUBPROJECT_ID\r\n",
      " 40: SUFFIX\r\n",
      " 41: SUPPORT_YEAR\r\n",
      " 42: DIRECT_COST_AMT\r\n",
      " 43: INDIRECT_COST_AMT\r\n",
      " 44: TOTAL_COST\r\n",
      " 45: TOTAL_COST_SUB_PROJECT\r\n"
     ]
    }
   ],
   "source": [
    "! csvcut -n sandbox.csv"
   ]
  },
  {
   "cell_type": "markdown",
   "metadata": {},
   "source": [
    "### Extract just the grant type (activity), full project number, investigator IDs, name and total cost"
   ]
  },
  {
   "cell_type": "code",
   "execution_count": 5,
   "metadata": {
    "collapsed": false
   },
   "outputs": [],
   "source": [
    "! csvcut -c 2,13,29,30,44 sandbox.csv > temp && mv temp sandbox-cut.csv"
   ]
  },
  {
   "cell_type": "markdown",
   "metadata": {},
   "source": [
    "### Take a look at the grant types"
   ]
  },
  {
   "cell_type": "code",
   "execution_count": 6,
   "metadata": {
    "collapsed": false
   },
   "outputs": [
    {
     "name": "stdout",
     "output_type": "stream",
     "text": [
      "|------------|\r\n",
      "|  ACTIVITY  |\r\n",
      "|------------|\r\n",
      "|  K23       |\r\n",
      "|  R01       |\r\n",
      "|  D43       |\r\n",
      "|  R01       |\r\n",
      "|  R01       |\r\n",
      "|  P41       |\r\n",
      "|  U01       |\r\n"
     ]
    }
   ],
   "source": [
    "! csvcut -c 1 sandbox-cut.csv | csvlook | head"
   ]
  },
  {
   "cell_type": "markdown",
   "metadata": {},
   "source": [
    "### Remove any grant type that is not RO1"
   ]
  },
  {
   "cell_type": "code",
   "execution_count": 7,
   "metadata": {
    "collapsed": false
   },
   "outputs": [],
   "source": [
    "! csvgrep -c 1 -r 'R01|DP2|R23|R29|R37' sandbox-cut.csv > sandbox-grant-types.csv"
   ]
  },
  {
   "cell_type": "markdown",
   "metadata": {},
   "source": [
    "### Take a look at the grant type"
   ]
  },
  {
   "cell_type": "code",
   "execution_count": 8,
   "metadata": {
    "collapsed": false
   },
   "outputs": [
    {
     "name": "stdout",
     "output_type": "stream",
     "text": [
      "|------------|\r\n",
      "|  ACTIVITY  |\r\n",
      "|------------|\r\n",
      "|  R01       |\r\n",
      "|  R01       |\r\n",
      "|  R01       |\r\n",
      "|  R01       |\r\n",
      "|  R01       |\r\n",
      "|  R01       |\r\n",
      "|  DP2       |\r\n"
     ]
    }
   ],
   "source": [
    "! csvcut -c 1 sandbox-grant-types.csv | csvlook | head"
   ]
  },
  {
   "cell_type": "markdown",
   "metadata": {},
   "source": [
    "### Load pandas"
   ]
  },
  {
   "cell_type": "code",
   "execution_count": 1,
   "metadata": {
    "collapsed": true
   },
   "outputs": [],
   "source": [
    "import pandas"
   ]
  },
  {
   "cell_type": "markdown",
   "metadata": {},
   "source": [
    "### Load the data into a dataframe"
   ]
  },
  {
   "cell_type": "code",
   "execution_count": 2,
   "metadata": {
    "collapsed": false,
    "scrolled": true
   },
   "outputs": [
    {
     "data": {
      "text/html": [
       "<div>\n",
       "<table border=\"1\" class=\"dataframe\">\n",
       "  <thead>\n",
       "    <tr style=\"text-align: right;\">\n",
       "      <th></th>\n",
       "      <th>ACTIVITY</th>\n",
       "      <th>FULL_PROJECT_NUM</th>\n",
       "      <th>PI_IDS</th>\n",
       "      <th>PI_NAMEs</th>\n",
       "      <th>TOTAL_COST</th>\n",
       "    </tr>\n",
       "  </thead>\n",
       "  <tbody>\n",
       "    <tr>\n",
       "      <th>0</th>\n",
       "      <td>R01</td>\n",
       "      <td>4R01NS085165-04</td>\n",
       "      <td>7017365;</td>\n",
       "      <td>POLSTER, BRIAN M;</td>\n",
       "      <td>335781</td>\n",
       "    </tr>\n",
       "    <tr>\n",
       "      <th>1</th>\n",
       "      <td>R01</td>\n",
       "      <td>1R01MH111502-01</td>\n",
       "      <td>2275890 (contact); 8742217; 6139020;</td>\n",
       "      <td>DULAC, CATHERINE G (contact); REGEV, AVIV ; ZH...</td>\n",
       "      <td>1593922</td>\n",
       "    </tr>\n",
       "    <tr>\n",
       "      <th>2</th>\n",
       "      <td>R01</td>\n",
       "      <td>5R01MH105329-02</td>\n",
       "      <td>9868481; 2063694 (contact);</td>\n",
       "      <td>CHEN, XUESONG ; GEIGER, JONATHAN DAVID (contact);</td>\n",
       "      <td>294755</td>\n",
       "    </tr>\n",
       "    <tr>\n",
       "      <th>3</th>\n",
       "      <td>R01</td>\n",
       "      <td>5R01DK105393-02</td>\n",
       "      <td>9335858;</td>\n",
       "      <td>QI, LING ;</td>\n",
       "      <td>202611</td>\n",
       "    </tr>\n",
       "    <tr>\n",
       "      <th>4</th>\n",
       "      <td>R01</td>\n",
       "      <td>4R01AG042165-05</td>\n",
       "      <td>10940848; 1897156 (contact);</td>\n",
       "      <td>LOZANO, ANDRES M.; LYKETSOS, CONSTANTINE G (co...</td>\n",
       "      <td>472366</td>\n",
       "    </tr>\n",
       "  </tbody>\n",
       "</table>\n",
       "</div>"
      ],
      "text/plain": [
       "  ACTIVITY FULL_PROJECT_NUM                                PI_IDS  \\\n",
       "0      R01  4R01NS085165-04                              7017365;   \n",
       "1      R01  1R01MH111502-01  2275890 (contact); 8742217; 6139020;   \n",
       "2      R01  5R01MH105329-02           9868481; 2063694 (contact);   \n",
       "3      R01  5R01DK105393-02                              9335858;   \n",
       "4      R01  4R01AG042165-05          10940848; 1897156 (contact);   \n",
       "\n",
       "                                            PI_NAMEs  TOTAL_COST  \n",
       "0                                  POLSTER, BRIAN M;      335781  \n",
       "1  DULAC, CATHERINE G (contact); REGEV, AVIV ; ZH...     1593922  \n",
       "2  CHEN, XUESONG ; GEIGER, JONATHAN DAVID (contact);      294755  \n",
       "3                                         QI, LING ;      202611  \n",
       "4  LOZANO, ANDRES M.; LYKETSOS, CONSTANTINE G (co...      472366  "
      ]
     },
     "execution_count": 2,
     "metadata": {},
     "output_type": "execute_result"
    }
   ],
   "source": [
    "nih_df = pandas.read_csv(\"./sandbox-grant-types.csv\")\n",
    "nih_df.head()"
   ]
  },
  {
   "cell_type": "markdown",
   "metadata": {},
   "source": [
    "### Drop any rows that don't have a total cost"
   ]
  },
  {
   "cell_type": "code",
   "execution_count": 3,
   "metadata": {
    "collapsed": false
   },
   "outputs": [],
   "source": [
    "nih_df2 = nih_df.dropna()"
   ]
  },
  {
   "cell_type": "markdown",
   "metadata": {},
   "source": [
    "### Collect all of the IDs into one long string and remove the word '(contact)'"
   ]
  },
  {
   "cell_type": "code",
   "execution_count": 5,
   "metadata": {
    "collapsed": false
   },
   "outputs": [],
   "source": [
    "ids = \"\"\n",
    "for index, row in nih_df2.iterrows():\n",
    "    ids += row['PI_IDS']\n",
    "    \n",
    "noContact = ids.replace(\"(contact)\",\"\")"
   ]
  },
  {
   "cell_type": "markdown",
   "metadata": {},
   "source": [
    "### Split the string into a list on each semicolon"
   ]
  },
  {
   "cell_type": "code",
   "execution_count": 6,
   "metadata": {
    "collapsed": false
   },
   "outputs": [
    {
     "data": {
      "text/plain": [
       "['7017365',\n",
       " '2275890 ',\n",
       " ' 8742217',\n",
       " ' 6139020',\n",
       " '9868481',\n",
       " ' 2063694 ',\n",
       " '9335858',\n",
       " '10940848',\n",
       " ' 1897156 ',\n",
       " '1874169']"
      ]
     },
     "execution_count": 6,
     "metadata": {},
     "output_type": "execute_result"
    }
   ],
   "source": [
    "listOfIds = noContact.split(\";\")\n",
    "listOfIds[:10]"
   ]
  },
  {
   "cell_type": "markdown",
   "metadata": {},
   "source": [
    "### Remove traling whitespace from each name"
   ]
  },
  {
   "cell_type": "code",
   "execution_count": 7,
   "metadata": {
    "collapsed": false,
    "scrolled": true
   },
   "outputs": [
    {
     "data": {
      "text/plain": [
       "31245"
      ]
     },
     "execution_count": 7,
     "metadata": {},
     "output_type": "execute_result"
    }
   ],
   "source": [
    "listOfIds = [x.strip(\" \") for x in listOfIds]\n",
    "len(listOfIds)"
   ]
  },
  {
   "cell_type": "markdown",
   "metadata": {},
   "source": [
    "### Remove duplicates"
   ]
  },
  {
   "cell_type": "code",
   "execution_count": 8,
   "metadata": {
    "collapsed": false
   },
   "outputs": [
    {
     "data": {
      "text/plain": [
       "21923"
      ]
     },
     "execution_count": 8,
     "metadata": {},
     "output_type": "execute_result"
    }
   ],
   "source": [
    "uniqueIds = [];\n",
    "for item in listOfIds:\n",
    "    if item not in uniqueIds:\n",
    "        if len(item) > 1:\n",
    "            uniqueIds.append(item)\n",
    "            \n",
    "len(uniqueIds)"
   ]
  },
  {
   "cell_type": "markdown",
   "metadata": {},
   "source": [
    "### Create a new data frame to store our records"
   ]
  },
  {
   "cell_type": "code",
   "execution_count": 16,
   "metadata": {
    "collapsed": false
   },
   "outputs": [
    {
     "data": {
      "text/html": [
       "<div>\n",
       "<table border=\"1\" class=\"dataframe\">\n",
       "  <thead>\n",
       "    <tr style=\"text-align: right;\">\n",
       "      <th></th>\n",
       "      <th>id</th>\n",
       "      <th>total-amount</th>\n",
       "      <th>number-of-grants</th>\n",
       "      <th>grant-types</th>\n",
       "      <th>grant-numbers</th>\n",
       "    </tr>\n",
       "  </thead>\n",
       "  <tbody>\n",
       "    <tr>\n",
       "      <th>0</th>\n",
       "      <td>7017365</td>\n",
       "      <td>0</td>\n",
       "      <td>0</td>\n",
       "      <td></td>\n",
       "      <td></td>\n",
       "    </tr>\n",
       "    <tr>\n",
       "      <th>1</th>\n",
       "      <td>2275890</td>\n",
       "      <td>0</td>\n",
       "      <td>0</td>\n",
       "      <td></td>\n",
       "      <td></td>\n",
       "    </tr>\n",
       "    <tr>\n",
       "      <th>2</th>\n",
       "      <td>8742217</td>\n",
       "      <td>0</td>\n",
       "      <td>0</td>\n",
       "      <td></td>\n",
       "      <td></td>\n",
       "    </tr>\n",
       "    <tr>\n",
       "      <th>3</th>\n",
       "      <td>6139020</td>\n",
       "      <td>0</td>\n",
       "      <td>0</td>\n",
       "      <td></td>\n",
       "      <td></td>\n",
       "    </tr>\n",
       "    <tr>\n",
       "      <th>4</th>\n",
       "      <td>9868481</td>\n",
       "      <td>0</td>\n",
       "      <td>0</td>\n",
       "      <td></td>\n",
       "      <td></td>\n",
       "    </tr>\n",
       "    <tr>\n",
       "      <th>5</th>\n",
       "      <td>2063694</td>\n",
       "      <td>0</td>\n",
       "      <td>0</td>\n",
       "      <td></td>\n",
       "      <td></td>\n",
       "    </tr>\n",
       "    <tr>\n",
       "      <th>6</th>\n",
       "      <td>9335858</td>\n",
       "      <td>0</td>\n",
       "      <td>0</td>\n",
       "      <td></td>\n",
       "      <td></td>\n",
       "    </tr>\n",
       "    <tr>\n",
       "      <th>7</th>\n",
       "      <td>10940848</td>\n",
       "      <td>0</td>\n",
       "      <td>0</td>\n",
       "      <td></td>\n",
       "      <td></td>\n",
       "    </tr>\n",
       "    <tr>\n",
       "      <th>8</th>\n",
       "      <td>1897156</td>\n",
       "      <td>0</td>\n",
       "      <td>0</td>\n",
       "      <td></td>\n",
       "      <td></td>\n",
       "    </tr>\n",
       "    <tr>\n",
       "      <th>9</th>\n",
       "      <td>1874169</td>\n",
       "      <td>0</td>\n",
       "      <td>0</td>\n",
       "      <td></td>\n",
       "      <td></td>\n",
       "    </tr>\n",
       "  </tbody>\n",
       "</table>\n",
       "</div>"
      ],
      "text/plain": [
       "         id  total-amount  number-of-grants grant-types grant-numbers\n",
       "0   7017365             0                 0                          \n",
       "1   2275890             0                 0                          \n",
       "2   8742217             0                 0                          \n",
       "3   6139020             0                 0                          \n",
       "4   9868481             0                 0                          \n",
       "5   2063694             0                 0                          \n",
       "6   9335858             0                 0                          \n",
       "7  10940848             0                 0                          \n",
       "8   1897156             0                 0                          \n",
       "9   1874169             0                 0                          "
      ]
     },
     "execution_count": 16,
     "metadata": {},
     "output_type": "execute_result"
    }
   ],
   "source": [
    "total_df = pandas.DataFrame({\n",
    "        'id': uniqueIds\n",
    "    })\n",
    "\n",
    "total_df['total-amount'] = 0\n",
    "total_df['number-of-grants'] = 0\n",
    "total_df['grant-types'] = \"\"\n",
    "total_df['grant-numbers'] = \"\"\n",
    "\n",
    "total_df.head(10)"
   ]
  },
  {
   "cell_type": "markdown",
   "metadata": {},
   "source": [
    "### Total up the cost for each instance of the names"
   ]
  },
  {
   "cell_type": "code",
   "execution_count": 17,
   "metadata": {
    "collapsed": false
   },
   "outputs": [
    {
     "data": {
      "text/html": [
       "<div>\n",
       "<table border=\"1\" class=\"dataframe\">\n",
       "  <thead>\n",
       "    <tr style=\"text-align: right;\">\n",
       "      <th></th>\n",
       "      <th>id</th>\n",
       "      <th>total-amount</th>\n",
       "      <th>number-of-grants</th>\n",
       "      <th>grant-types</th>\n",
       "      <th>grant-numbers</th>\n",
       "    </tr>\n",
       "  </thead>\n",
       "  <tbody>\n",
       "    <tr>\n",
       "      <th>0</th>\n",
       "      <td>7017365</td>\n",
       "      <td>335781</td>\n",
       "      <td>1</td>\n",
       "      <td>R01</td>\n",
       "      <td>4R01NS085165-04</td>\n",
       "    </tr>\n",
       "    <tr>\n",
       "      <th>1</th>\n",
       "      <td>2275890</td>\n",
       "      <td>3506620</td>\n",
       "      <td>4</td>\n",
       "      <td>R01 + R01 + R01 + R01</td>\n",
       "      <td>1R01MH111502-01 + 4R01DC013087-04 + 1R01MH1130...</td>\n",
       "    </tr>\n",
       "    <tr>\n",
       "      <th>2</th>\n",
       "      <td>8742217</td>\n",
       "      <td>2806468</td>\n",
       "      <td>2</td>\n",
       "      <td>R01 + R01</td>\n",
       "      <td>1R01MH111502-01 + 1R01HG009276-01</td>\n",
       "    </tr>\n",
       "    <tr>\n",
       "      <th>3</th>\n",
       "      <td>6139020</td>\n",
       "      <td>3114521</td>\n",
       "      <td>3</td>\n",
       "      <td>R01 + R01 + R01</td>\n",
       "      <td>1R01MH111502-01 + 4R01GM105637-04 + 1R01MH1130...</td>\n",
       "    </tr>\n",
       "    <tr>\n",
       "      <th>4</th>\n",
       "      <td>9868481</td>\n",
       "      <td>607505</td>\n",
       "      <td>2</td>\n",
       "      <td>R01 + R01</td>\n",
       "      <td>5R01MH105329-02 + 5R01MH100972-03</td>\n",
       "    </tr>\n",
       "    <tr>\n",
       "      <th>5</th>\n",
       "      <td>2063694</td>\n",
       "      <td>607505</td>\n",
       "      <td>2</td>\n",
       "      <td>R01 + R01</td>\n",
       "      <td>5R01MH105329-02 + 5R01MH100972-03</td>\n",
       "    </tr>\n",
       "    <tr>\n",
       "      <th>6</th>\n",
       "      <td>9335858</td>\n",
       "      <td>1260150</td>\n",
       "      <td>5</td>\n",
       "      <td>R01 + R01 + R01 + R01 + R01</td>\n",
       "      <td>5R01DK105393-02 + 5R01GM113188-02 + 1R01DK1111...</td>\n",
       "    </tr>\n",
       "    <tr>\n",
       "      <th>7</th>\n",
       "      <td>10940848</td>\n",
       "      <td>472366</td>\n",
       "      <td>1</td>\n",
       "      <td>R01</td>\n",
       "      <td>4R01AG042165-05</td>\n",
       "    </tr>\n",
       "    <tr>\n",
       "      <th>8</th>\n",
       "      <td>1897156</td>\n",
       "      <td>4397431</td>\n",
       "      <td>3</td>\n",
       "      <td>R01 + R01 + R01</td>\n",
       "      <td>4R01AG042165-05 + 1R01AG052510-01 + 1R01AG0518...</td>\n",
       "    </tr>\n",
       "    <tr>\n",
       "      <th>9</th>\n",
       "      <td>1874169</td>\n",
       "      <td>2191656</td>\n",
       "      <td>3</td>\n",
       "      <td>R01 + R01 + R01</td>\n",
       "      <td>5R01MH101118-03 + 5R01MH104647-03 + 1R01MH1121...</td>\n",
       "    </tr>\n",
       "  </tbody>\n",
       "</table>\n",
       "</div>"
      ],
      "text/plain": [
       "         id  total-amount  number-of-grants                  grant-types  \\\n",
       "0   7017365        335781                 1                          R01   \n",
       "1   2275890       3506620                 4        R01 + R01 + R01 + R01   \n",
       "2   8742217       2806468                 2                    R01 + R01   \n",
       "3   6139020       3114521                 3              R01 + R01 + R01   \n",
       "4   9868481        607505                 2                    R01 + R01   \n",
       "5   2063694        607505                 2                    R01 + R01   \n",
       "6   9335858       1260150                 5  R01 + R01 + R01 + R01 + R01   \n",
       "7  10940848        472366                 1                          R01   \n",
       "8   1897156       4397431                 3              R01 + R01 + R01   \n",
       "9   1874169       2191656                 3              R01 + R01 + R01   \n",
       "\n",
       "                                       grant-numbers  \n",
       "0                                    4R01NS085165-04  \n",
       "1  1R01MH111502-01 + 4R01DC013087-04 + 1R01MH1130...  \n",
       "2                  1R01MH111502-01 + 1R01HG009276-01  \n",
       "3  1R01MH111502-01 + 4R01GM105637-04 + 1R01MH1130...  \n",
       "4                  5R01MH105329-02 + 5R01MH100972-03  \n",
       "5                  5R01MH105329-02 + 5R01MH100972-03  \n",
       "6  5R01DK105393-02 + 5R01GM113188-02 + 1R01DK1111...  \n",
       "7                                    4R01AG042165-05  \n",
       "8  4R01AG042165-05 + 1R01AG052510-01 + 1R01AG0518...  \n",
       "9  5R01MH101118-03 + 5R01MH104647-03 + 1R01MH1121...  "
      ]
     },
     "execution_count": 17,
     "metadata": {},
     "output_type": "execute_result"
    }
   ],
   "source": [
    "for i, totalElem in total_df.iterrows():\n",
    "    thisId = totalElem['id']\n",
    "    if thisId != 'nan':\n",
    "        id_correct_indexes = nih_df2['PI_IDS'].str.contains(thisId, case=True)\n",
    "        id_correct_rows = nih_df2[id_correct_indexes]\n",
    "        summed = id_correct_rows['TOTAL_COST'].sum()\n",
    "        number_of_grants = len(id_correct_rows['PI_IDS'])\n",
    "        types = id_correct_rows['ACTIVITY'].str.cat(sep=' + ')\n",
    "        grant_numbers = id_correct_rows['FULL_PROJECT_NUM'].str.cat(sep=' + ')\n",
    "        total_df.set_value(i, 'total-amount', summed)\n",
    "        total_df.set_value(i, 'number-of-grants', number_of_grants)\n",
    "        total_df.set_value(i, 'grant-types', types)\n",
    "        total_df.set_value(i, 'grant-numbers', grant_numbers)\n",
    "\n",
    "total_df.head(10)"
   ]
  },
  {
   "cell_type": "markdown",
   "metadata": {},
   "source": [
    "### Count rows in new dataframe"
   ]
  },
  {
   "cell_type": "code",
   "execution_count": 19,
   "metadata": {
    "collapsed": false,
    "scrolled": true
   },
   "outputs": [
    {
     "data": {
      "text/plain": [
       "21923"
      ]
     },
     "execution_count": 19,
     "metadata": {},
     "output_type": "execute_result"
    }
   ],
   "source": [
    "len(total_df)"
   ]
  },
  {
   "cell_type": "markdown",
   "metadata": {},
   "source": [
    "### Create a list of dicts containing names and ids"
   ]
  },
  {
   "cell_type": "code",
   "execution_count": 22,
   "metadata": {
    "collapsed": false
   },
   "outputs": [
    {
     "name": "stdout",
     "output_type": "stream",
     "text": [
      "[{'name': 'POLSTER, BRIAN M', 'id': '7017365'}, {'name': 'DULAC, CATHERINE G', 'id': '2275890'}, {'name': 'GEIGER, JONATHAN DAVID', 'id': '2063694'}, {'name': 'QI, LING', 'id': '9335858'}, {'name': 'LYKETSOS, CONSTANTINE G', 'id': '1897156'}, {'name': 'CLARKE, GREGORY N', 'id': '1874169'}, {'name': 'ANDREWS, JASON RANDOLPH', 'id': '10518018'}, {'name': 'FISHER, STEVEN K', 'id': '1879326'}, {'name': 'MANFREDI, GIOVANNI', 'id': '3150937'}, {'name': 'CICHEWICZ, ROBERT HENRY', 'id': '8769887'}]\n"
     ]
    }
   ],
   "source": [
    "names_and_ids = [];\n",
    "\n",
    "for index, row in nih_df2.iterrows():\n",
    "    row_ids = row['PI_IDS'].split(';')\n",
    "    row_names = row['PI_NAMEs'].split(';')\n",
    "    if len(row_ids) > 2:\n",
    "        contact_id = filter(lambda x: '(contact)' in x, row_ids)[0].strip(\"(contact)\").strip()\n",
    "        contact_name = filter(lambda x: '(contact)' in x, row_names)[0].strip(\"(contact)\").strip()\n",
    "    else:\n",
    "        contact_id = row_ids[0].strip()\n",
    "        contact_name = row_names[0].strip()\n",
    "    this_dict = {'name': contact_name, 'id': contact_id }\n",
    "    names_and_ids.append(this_dict)\n",
    "        \n",
    "print names_and_ids[:10]"
   ]
  },
  {
   "cell_type": "markdown",
   "metadata": {},
   "source": [
    "### Create a new dataframe containing name and id columns, with only unique values"
   ]
  },
  {
   "cell_type": "code",
   "execution_count": 23,
   "metadata": {
    "collapsed": false
   },
   "outputs": [
    {
     "data": {
      "text/html": [
       "<div>\n",
       "<table border=\"1\" class=\"dataframe\">\n",
       "  <thead>\n",
       "    <tr style=\"text-align: right;\">\n",
       "      <th></th>\n",
       "      <th>id</th>\n",
       "      <th>name</th>\n",
       "    </tr>\n",
       "  </thead>\n",
       "  <tbody>\n",
       "    <tr>\n",
       "      <th>0</th>\n",
       "      <td>7017365</td>\n",
       "      <td>POLSTER, BRIAN M</td>\n",
       "    </tr>\n",
       "    <tr>\n",
       "      <th>1</th>\n",
       "      <td>2275890</td>\n",
       "      <td>DULAC, CATHERINE G</td>\n",
       "    </tr>\n",
       "    <tr>\n",
       "      <th>2</th>\n",
       "      <td>2063694</td>\n",
       "      <td>GEIGER, JONATHAN DAVID</td>\n",
       "    </tr>\n",
       "    <tr>\n",
       "      <th>3</th>\n",
       "      <td>9335858</td>\n",
       "      <td>QI, LING</td>\n",
       "    </tr>\n",
       "    <tr>\n",
       "      <th>4</th>\n",
       "      <td>1897156</td>\n",
       "      <td>LYKETSOS, CONSTANTINE G</td>\n",
       "    </tr>\n",
       "    <tr>\n",
       "      <th>5</th>\n",
       "      <td>1874169</td>\n",
       "      <td>CLARKE, GREGORY N</td>\n",
       "    </tr>\n",
       "    <tr>\n",
       "      <th>6</th>\n",
       "      <td>10518018</td>\n",
       "      <td>ANDREWS, JASON RANDOLPH</td>\n",
       "    </tr>\n",
       "    <tr>\n",
       "      <th>7</th>\n",
       "      <td>1879326</td>\n",
       "      <td>FISHER, STEVEN K</td>\n",
       "    </tr>\n",
       "    <tr>\n",
       "      <th>8</th>\n",
       "      <td>3150937</td>\n",
       "      <td>MANFREDI, GIOVANNI</td>\n",
       "    </tr>\n",
       "    <tr>\n",
       "      <th>9</th>\n",
       "      <td>8769887</td>\n",
       "      <td>CICHEWICZ, ROBERT HENRY</td>\n",
       "    </tr>\n",
       "  </tbody>\n",
       "</table>\n",
       "</div>"
      ],
      "text/plain": [
       "         id                     name\n",
       "0   7017365         POLSTER, BRIAN M\n",
       "1   2275890       DULAC, CATHERINE G\n",
       "2   2063694   GEIGER, JONATHAN DAVID\n",
       "3   9335858                 QI, LING\n",
       "4   1897156  LYKETSOS, CONSTANTINE G\n",
       "5   1874169        CLARKE, GREGORY N\n",
       "6  10518018  ANDREWS, JASON RANDOLPH\n",
       "7   1879326         FISHER, STEVEN K\n",
       "8   3150937       MANFREDI, GIOVANNI\n",
       "9   8769887  CICHEWICZ, ROBERT HENRY"
      ]
     },
     "execution_count": 23,
     "metadata": {},
     "output_type": "execute_result"
    }
   ],
   "source": [
    "name_id_df = pandas.DataFrame(names_and_ids)\n",
    "unique_name_id_df = name_id_df.drop_duplicates()\n",
    "unique_name_id_df.head(10)"
   ]
  },
  {
   "cell_type": "markdown",
   "metadata": {},
   "source": [
    "### Count rows in new dataframe"
   ]
  },
  {
   "cell_type": "code",
   "execution_count": 24,
   "metadata": {
    "collapsed": false
   },
   "outputs": [
    {
     "data": {
      "text/plain": [
       "18818"
      ]
     },
     "execution_count": 24,
     "metadata": {},
     "output_type": "execute_result"
    }
   ],
   "source": [
    "len(unique_name_id_df)"
   ]
  },
  {
   "cell_type": "markdown",
   "metadata": {},
   "source": [
    "### Merge the two dataframes"
   ]
  },
  {
   "cell_type": "code",
   "execution_count": 25,
   "metadata": {
    "collapsed": false
   },
   "outputs": [
    {
     "data": {
      "text/html": [
       "<div>\n",
       "<table border=\"1\" class=\"dataframe\">\n",
       "  <thead>\n",
       "    <tr style=\"text-align: right;\">\n",
       "      <th></th>\n",
       "      <th>id</th>\n",
       "      <th>total-amount</th>\n",
       "      <th>number-of-grants</th>\n",
       "      <th>grant-types</th>\n",
       "      <th>grant-numbers</th>\n",
       "      <th>name</th>\n",
       "    </tr>\n",
       "  </thead>\n",
       "  <tbody>\n",
       "    <tr>\n",
       "      <th>0</th>\n",
       "      <td>7017365</td>\n",
       "      <td>335781</td>\n",
       "      <td>1</td>\n",
       "      <td>R01</td>\n",
       "      <td>4R01NS085165-04</td>\n",
       "      <td>POLSTER, BRIAN M</td>\n",
       "    </tr>\n",
       "    <tr>\n",
       "      <th>1</th>\n",
       "      <td>2275890</td>\n",
       "      <td>3506620</td>\n",
       "      <td>4</td>\n",
       "      <td>R01 + R01 + R01 + R01</td>\n",
       "      <td>1R01MH111502-01 + 4R01DC013087-04 + 1R01MH1130...</td>\n",
       "      <td>DULAC, CATHERINE G</td>\n",
       "    </tr>\n",
       "    <tr>\n",
       "      <th>2</th>\n",
       "      <td>8742217</td>\n",
       "      <td>2806468</td>\n",
       "      <td>2</td>\n",
       "      <td>R01 + R01</td>\n",
       "      <td>1R01MH111502-01 + 1R01HG009276-01</td>\n",
       "      <td>REGEV, AVIV</td>\n",
       "    </tr>\n",
       "    <tr>\n",
       "      <th>3</th>\n",
       "      <td>6139020</td>\n",
       "      <td>3114521</td>\n",
       "      <td>3</td>\n",
       "      <td>R01 + R01 + R01</td>\n",
       "      <td>1R01MH111502-01 + 4R01GM105637-04 + 1R01MH1130...</td>\n",
       "      <td>ZHUANG, XIAOWEI</td>\n",
       "    </tr>\n",
       "    <tr>\n",
       "      <th>4</th>\n",
       "      <td>9868481</td>\n",
       "      <td>607505</td>\n",
       "      <td>2</td>\n",
       "      <td>R01 + R01</td>\n",
       "      <td>5R01MH105329-02 + 5R01MH100972-03</td>\n",
       "      <td>NaN</td>\n",
       "    </tr>\n",
       "    <tr>\n",
       "      <th>5</th>\n",
       "      <td>2063694</td>\n",
       "      <td>607505</td>\n",
       "      <td>2</td>\n",
       "      <td>R01 + R01</td>\n",
       "      <td>5R01MH105329-02 + 5R01MH100972-03</td>\n",
       "      <td>GEIGER, JONATHAN DAVID</td>\n",
       "    </tr>\n",
       "    <tr>\n",
       "      <th>6</th>\n",
       "      <td>9335858</td>\n",
       "      <td>1260150</td>\n",
       "      <td>5</td>\n",
       "      <td>R01 + R01 + R01 + R01 + R01</td>\n",
       "      <td>5R01DK105393-02 + 5R01GM113188-02 + 1R01DK1111...</td>\n",
       "      <td>QI, LING</td>\n",
       "    </tr>\n",
       "    <tr>\n",
       "      <th>7</th>\n",
       "      <td>10940848</td>\n",
       "      <td>472366</td>\n",
       "      <td>1</td>\n",
       "      <td>R01</td>\n",
       "      <td>4R01AG042165-05</td>\n",
       "      <td>NaN</td>\n",
       "    </tr>\n",
       "    <tr>\n",
       "      <th>8</th>\n",
       "      <td>1897156</td>\n",
       "      <td>4397431</td>\n",
       "      <td>3</td>\n",
       "      <td>R01 + R01 + R01</td>\n",
       "      <td>4R01AG042165-05 + 1R01AG052510-01 + 1R01AG0518...</td>\n",
       "      <td>LYKETSOS, CONSTANTINE G</td>\n",
       "    </tr>\n",
       "    <tr>\n",
       "      <th>9</th>\n",
       "      <td>1874169</td>\n",
       "      <td>2191656</td>\n",
       "      <td>3</td>\n",
       "      <td>R01 + R01 + R01</td>\n",
       "      <td>5R01MH101118-03 + 5R01MH104647-03 + 1R01MH1121...</td>\n",
       "      <td>CLARKE, GREGORY N</td>\n",
       "    </tr>\n",
       "  </tbody>\n",
       "</table>\n",
       "</div>"
      ],
      "text/plain": [
       "         id  total-amount  number-of-grants                  grant-types  \\\n",
       "0   7017365        335781                 1                          R01   \n",
       "1   2275890       3506620                 4        R01 + R01 + R01 + R01   \n",
       "2   8742217       2806468                 2                    R01 + R01   \n",
       "3   6139020       3114521                 3              R01 + R01 + R01   \n",
       "4   9868481        607505                 2                    R01 + R01   \n",
       "5   2063694        607505                 2                    R01 + R01   \n",
       "6   9335858       1260150                 5  R01 + R01 + R01 + R01 + R01   \n",
       "7  10940848        472366                 1                          R01   \n",
       "8   1897156       4397431                 3              R01 + R01 + R01   \n",
       "9   1874169       2191656                 3              R01 + R01 + R01   \n",
       "\n",
       "                                       grant-numbers                     name  \n",
       "0                                    4R01NS085165-04         POLSTER, BRIAN M  \n",
       "1  1R01MH111502-01 + 4R01DC013087-04 + 1R01MH1130...       DULAC, CATHERINE G  \n",
       "2                  1R01MH111502-01 + 1R01HG009276-01              REGEV, AVIV  \n",
       "3  1R01MH111502-01 + 4R01GM105637-04 + 1R01MH1130...          ZHUANG, XIAOWEI  \n",
       "4                  5R01MH105329-02 + 5R01MH100972-03                      NaN  \n",
       "5                  5R01MH105329-02 + 5R01MH100972-03   GEIGER, JONATHAN DAVID  \n",
       "6  5R01DK105393-02 + 5R01GM113188-02 + 1R01DK1111...                 QI, LING  \n",
       "7                                    4R01AG042165-05                      NaN  \n",
       "8  4R01AG042165-05 + 1R01AG052510-01 + 1R01AG0518...  LYKETSOS, CONSTANTINE G  \n",
       "9  5R01MH101118-03 + 5R01MH104647-03 + 1R01MH1121...        CLARKE, GREGORY N  "
      ]
     },
     "execution_count": 25,
     "metadata": {},
     "output_type": "execute_result"
    }
   ],
   "source": [
    "merge_df = pandas.merge(total_df, unique_name_id_df, on=\"id\", how=\"outer\")\n",
    "merge_df.head(10)"
   ]
  },
  {
   "cell_type": "markdown",
   "metadata": {},
   "source": [
    "### Sort by total-amount"
   ]
  },
  {
   "cell_type": "code",
   "execution_count": 26,
   "metadata": {
    "collapsed": false
   },
   "outputs": [
    {
     "data": {
      "text/html": [
       "<div>\n",
       "<table border=\"1\" class=\"dataframe\">\n",
       "  <thead>\n",
       "    <tr style=\"text-align: right;\">\n",
       "      <th></th>\n",
       "      <th>id</th>\n",
       "      <th>total-amount</th>\n",
       "      <th>number-of-grants</th>\n",
       "      <th>grant-types</th>\n",
       "      <th>grant-numbers</th>\n",
       "      <th>name</th>\n",
       "    </tr>\n",
       "  </thead>\n",
       "  <tbody>\n",
       "    <tr>\n",
       "      <th>594</th>\n",
       "      <td>7370713</td>\n",
       "      <td>8049330</td>\n",
       "      <td>3</td>\n",
       "      <td>R01 + R01 + R01</td>\n",
       "      <td>4R01AG043962-03 + 1R01AG053952-01 + 1R01AG0497...</td>\n",
       "      <td>BURNS, JEFFREY MURRAY</td>\n",
       "    </tr>\n",
       "    <tr>\n",
       "      <th>11895</th>\n",
       "      <td>1883846</td>\n",
       "      <td>6991146</td>\n",
       "      <td>2</td>\n",
       "      <td>R01 + R01</td>\n",
       "      <td>4R01DA016575-14 + 4R01DA001411-42</td>\n",
       "      <td>JOHNSTON, LLOYD D</td>\n",
       "    </tr>\n",
       "    <tr>\n",
       "      <th>6432</th>\n",
       "      <td>2083909</td>\n",
       "      <td>6561002</td>\n",
       "      <td>5</td>\n",
       "      <td>R01 + R01 + R01 + R01 + R01</td>\n",
       "      <td>3R01HD052646-08S1 + 4R01HD052646-08 + 2R01HD06...</td>\n",
       "      <td>SASTRY, NARAYAN</td>\n",
       "    </tr>\n",
       "    <tr>\n",
       "      <th>1525</th>\n",
       "      <td>7861723</td>\n",
       "      <td>6517026</td>\n",
       "      <td>3</td>\n",
       "      <td>R01 + R01 + R01</td>\n",
       "      <td>5R01AG046179-02 + 4R01NS065667-09 + 1R01NS0957...</td>\n",
       "      <td>BATEMAN, RANDALL J</td>\n",
       "    </tr>\n",
       "    <tr>\n",
       "      <th>3100</th>\n",
       "      <td>1895462</td>\n",
       "      <td>6290349</td>\n",
       "      <td>4</td>\n",
       "      <td>R01 + R37 + R01 + R01</td>\n",
       "      <td>4R01MH075957-09 + 4R37DA035377-04 + 5R01MH0863...</td>\n",
       "      <td>DEISSEROTH, KARL A.</td>\n",
       "    </tr>\n",
       "    <tr>\n",
       "      <th>14867</th>\n",
       "      <td>8658504</td>\n",
       "      <td>6274848</td>\n",
       "      <td>4</td>\n",
       "      <td>R01 + R01 + R01 + R01</td>\n",
       "      <td>1R01AG054029-01 + 5R01AG046396-03 + 1R01DC0142...</td>\n",
       "      <td>JOHNSON, KEITH A.</td>\n",
       "    </tr>\n",
       "    <tr>\n",
       "      <th>11167</th>\n",
       "      <td>2059843</td>\n",
       "      <td>5949179</td>\n",
       "      <td>3</td>\n",
       "      <td>R01 + R01 + R01</td>\n",
       "      <td>5R01AG047992-03 + 3R01AG047992-03S1 + 1R01AG05...</td>\n",
       "      <td>NaN</td>\n",
       "    </tr>\n",
       "    <tr>\n",
       "      <th>11765</th>\n",
       "      <td>1862204</td>\n",
       "      <td>5695022</td>\n",
       "      <td>3</td>\n",
       "      <td>R01 + R01 + R01</td>\n",
       "      <td>5R01DE016148-11 + 2R01DE014899-13 + 3R01DE0148...</td>\n",
       "      <td>MARAZITA, MARY L.</td>\n",
       "    </tr>\n",
       "    <tr>\n",
       "      <th>9299</th>\n",
       "      <td>8666855</td>\n",
       "      <td>5426324</td>\n",
       "      <td>5</td>\n",
       "      <td>R01 + R01 + R01 + R01 + R01</td>\n",
       "      <td>1R01AG054076-01 + 2R01NS017950-33 + 5R01AG0496...</td>\n",
       "      <td>SESHADRI, SUDHA</td>\n",
       "    </tr>\n",
       "    <tr>\n",
       "      <th>5756</th>\n",
       "      <td>6902290</td>\n",
       "      <td>5404777</td>\n",
       "      <td>3</td>\n",
       "      <td>R01 + R01 + R01</td>\n",
       "      <td>1R01AG053952-01 + 4R01DK095172-05 + 1R01CA1967...</td>\n",
       "      <td>ERICKSON, KIRK I</td>\n",
       "    </tr>\n",
       "  </tbody>\n",
       "</table>\n",
       "</div>"
      ],
      "text/plain": [
       "            id  total-amount  number-of-grants                  grant-types  \\\n",
       "594    7370713       8049330                 3              R01 + R01 + R01   \n",
       "11895  1883846       6991146                 2                    R01 + R01   \n",
       "6432   2083909       6561002                 5  R01 + R01 + R01 + R01 + R01   \n",
       "1525   7861723       6517026                 3              R01 + R01 + R01   \n",
       "3100   1895462       6290349                 4        R01 + R37 + R01 + R01   \n",
       "14867  8658504       6274848                 4        R01 + R01 + R01 + R01   \n",
       "11167  2059843       5949179                 3              R01 + R01 + R01   \n",
       "11765  1862204       5695022                 3              R01 + R01 + R01   \n",
       "9299   8666855       5426324                 5  R01 + R01 + R01 + R01 + R01   \n",
       "5756   6902290       5404777                 3              R01 + R01 + R01   \n",
       "\n",
       "                                           grant-numbers  \\\n",
       "594    4R01AG043962-03 + 1R01AG053952-01 + 1R01AG0497...   \n",
       "11895                  4R01DA016575-14 + 4R01DA001411-42   \n",
       "6432   3R01HD052646-08S1 + 4R01HD052646-08 + 2R01HD06...   \n",
       "1525   5R01AG046179-02 + 4R01NS065667-09 + 1R01NS0957...   \n",
       "3100   4R01MH075957-09 + 4R37DA035377-04 + 5R01MH0863...   \n",
       "14867  1R01AG054029-01 + 5R01AG046396-03 + 1R01DC0142...   \n",
       "11167  5R01AG047992-03 + 3R01AG047992-03S1 + 1R01AG05...   \n",
       "11765  5R01DE016148-11 + 2R01DE014899-13 + 3R01DE0148...   \n",
       "9299   1R01AG054076-01 + 2R01NS017950-33 + 5R01AG0496...   \n",
       "5756   1R01AG053952-01 + 4R01DK095172-05 + 1R01CA1967...   \n",
       "\n",
       "                        name  \n",
       "594    BURNS, JEFFREY MURRAY  \n",
       "11895      JOHNSTON, LLOYD D  \n",
       "6432         SASTRY, NARAYAN  \n",
       "1525      BATEMAN, RANDALL J  \n",
       "3100     DEISSEROTH, KARL A.  \n",
       "14867      JOHNSON, KEITH A.  \n",
       "11167                    NaN  \n",
       "11765      MARAZITA, MARY L.  \n",
       "9299         SESHADRI, SUDHA  \n",
       "5756        ERICKSON, KIRK I  "
      ]
     },
     "execution_count": 26,
     "metadata": {},
     "output_type": "execute_result"
    }
   ],
   "source": [
    "sorted_df = merge_df.sort('total-amount', ascending=False)\n",
    "sorted_df.head(10)"
   ]
  },
  {
   "cell_type": "markdown",
   "metadata": {},
   "source": [
    "### Export to a new csv"
   ]
  },
  {
   "cell_type": "code",
   "execution_count": 27,
   "metadata": {
    "collapsed": false
   },
   "outputs": [],
   "source": [
    "sorted_df.to_csv('sandbox-output-ids-names.csv', sep=',')"
   ]
  },
  {
   "cell_type": "markdown",
   "metadata": {},
   "source": [
    "### Count the number of lines in this new file"
   ]
  },
  {
   "cell_type": "code",
   "execution_count": 29,
   "metadata": {
    "collapsed": false
   },
   "outputs": [
    {
     "name": "stdout",
     "output_type": "stream",
     "text": [
      "   21924 sandbox-output-ids-names.csv\r\n"
     ]
    }
   ],
   "source": [
    "! wc -l sandbox-output-ids-names.csv"
   ]
  },
  {
   "cell_type": "markdown",
   "metadata": {},
   "source": [
    "### Get the column numbers"
   ]
  },
  {
   "cell_type": "code",
   "execution_count": 30,
   "metadata": {
    "collapsed": false
   },
   "outputs": [
    {
     "name": "stdout",
     "output_type": "stream",
     "text": [
      "  1: \r\n",
      "  2: id\r\n",
      "  3: total-amount\r\n",
      "  4: number-of-grants\r\n",
      "  5: grant-types\r\n",
      "  6: grant-numbers\r\n",
      "  7: name\r\n"
     ]
    }
   ],
   "source": [
    "! csvcut -n sandbox-output-ids-names.csv"
   ]
  },
  {
   "cell_type": "markdown",
   "metadata": {},
   "source": [
    "### Drop the first column and the names"
   ]
  },
  {
   "cell_type": "code",
   "execution_count": 31,
   "metadata": {
    "collapsed": false
   },
   "outputs": [],
   "source": [
    "! csvcut -c 2,3,4,5,6,7 sandbox-output-ids-names.csv > temp && mv temp sandbox-output-ids-names.csv"
   ]
  }
 ],
 "metadata": {
  "kernelspec": {
   "display_name": "Python 2",
   "language": "python",
   "name": "python2"
  },
  "language_info": {
   "codemirror_mode": {
    "name": "ipython",
    "version": 2
   },
   "file_extension": ".py",
   "mimetype": "text/x-python",
   "name": "python",
   "nbconvert_exporter": "python",
   "pygments_lexer": "ipython2",
   "version": "2.7.10"
  }
 },
 "nbformat": 4,
 "nbformat_minor": 0
}
