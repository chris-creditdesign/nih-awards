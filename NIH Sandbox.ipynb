{
 "cells": [
  {
   "cell_type": "markdown",
   "metadata": {},
   "source": [
    "### Convert to \"utf-8\" encoded"
   ]
  },
  {
   "cell_type": "code",
   "execution_count": 1,
   "metadata": {
    "collapsed": true
   },
   "outputs": [],
   "source": [
    "! in2csv -e iso-8859-1 'RePORTER_PRJ_C_FY2016.csv' > sandbox.csv"
   ]
  },
  {
   "cell_type": "markdown",
   "metadata": {},
   "source": [
    "### Get a numbered list of the columns"
   ]
  },
  {
   "cell_type": "code",
   "execution_count": 2,
   "metadata": {
    "collapsed": false
   },
   "outputs": [
    {
     "name": "stdout",
     "output_type": "stream",
     "text": [
      "  1: APPLICATION_ID\r\n",
      "  2: ACTIVITY\r\n",
      "  3: ADMINISTERING_IC\r\n",
      "  4: APPLICATION_TYPE\r\n",
      "  5: ARRA_FUNDED\r\n",
      "  6: AWARD_NOTICE_DATE\r\n",
      "  7: BUDGET_START\r\n",
      "  8: BUDGET_END\r\n",
      "  9: CFDA_CODE\r\n",
      " 10: CORE_PROJECT_NUM\r\n",
      " 11: ED_INST_TYPE\r\n",
      " 12: FOA_NUMBER\r\n",
      " 13: FULL_PROJECT_NUM\r\n",
      " 14: FUNDING_ICs\r\n",
      " 15: FUNDING_MECHANISM\r\n",
      " 16: FY\r\n",
      " 17: IC_NAME\r\n",
      " 18: NIH_SPENDING_CATS\r\n",
      " 19: ORG_CITY\r\n",
      " 20: ORG_COUNTRY\r\n",
      " 21: ORG_DEPT\r\n",
      " 22: ORG_DISTRICT\r\n",
      " 23: ORG_DUNS\r\n",
      " 24: ORG_FIPS\r\n",
      " 25: ORG_NAME\r\n",
      " 26: ORG_STATE\r\n",
      " 27: ORG_ZIPCODE\r\n",
      " 28: PHR\r\n",
      " 29: PI_IDS\r\n",
      " 30: PI_NAMEs\r\n",
      " 31: PROGRAM_OFFICER_NAME\r\n",
      " 32: PROJECT_START\r\n",
      " 33: PROJECT_END\r\n",
      " 34: PROJECT_TERMS\r\n",
      " 35: PROJECT_TITLE\r\n",
      " 36: SERIAL_NUMBER\r\n",
      " 37: STUDY_SECTION\r\n",
      " 38: STUDY_SECTION_NAME\r\n",
      " 39: SUBPROJECT_ID\r\n",
      " 40: SUFFIX\r\n",
      " 41: SUPPORT_YEAR\r\n",
      " 42: DIRECT_COST_AMT\r\n",
      " 43: INDIRECT_COST_AMT\r\n",
      " 44: TOTAL_COST\r\n",
      " 45: TOTAL_COST_SUB_PROJECT\r\n"
     ]
    }
   ],
   "source": [
    "! csvcut -n sandbox.csv"
   ]
  },
  {
   "cell_type": "markdown",
   "metadata": {},
   "source": [
    "### Extract just the grant type (activity), investigator IDs, name and total cost"
   ]
  },
  {
   "cell_type": "code",
   "execution_count": 3,
   "metadata": {
    "collapsed": false
   },
   "outputs": [],
   "source": [
    "! csvcut -c 2,29,30,44 sandbox.csv > temp && mv temp sandbox-cut.csv"
   ]
  },
  {
   "cell_type": "markdown",
   "metadata": {},
   "source": [
    "### Take a look at the grant types"
   ]
  },
  {
   "cell_type": "code",
   "execution_count": 8,
   "metadata": {
    "collapsed": false
   },
   "outputs": [
    {
     "name": "stdout",
     "output_type": "stream",
     "text": [
      "|------------|\r\n",
      "|  ACTIVITY  |\r\n",
      "|------------|\r\n",
      "|  K23       |\r\n",
      "|  R01       |\r\n",
      "|  D43       |\r\n",
      "|  R01       |\r\n",
      "|  R01       |\r\n",
      "|  P41       |\r\n",
      "|  U01       |\r\n"
     ]
    }
   ],
   "source": [
    "! csvcut -c 1 sandbox-cut.csv | csvlook | head"
   ]
  },
  {
   "cell_type": "markdown",
   "metadata": {},
   "source": [
    "### Remove any grant type that is not RO1"
   ]
  },
  {
   "cell_type": "code",
   "execution_count": 11,
   "metadata": {
    "collapsed": false
   },
   "outputs": [],
   "source": [
    "! csvgrep -c 1 -m 'R01' sandbox-cut.csv > sandbox-R01.csv"
   ]
  },
  {
   "cell_type": "markdown",
   "metadata": {},
   "source": [
    "### Take a look at the grant type"
   ]
  },
  {
   "cell_type": "code",
   "execution_count": 13,
   "metadata": {
    "collapsed": false
   },
   "outputs": [
    {
     "name": "stdout",
     "output_type": "stream",
     "text": [
      "|------------|\r\n",
      "|  ACTIVITY  |\r\n",
      "|------------|\r\n",
      "|  R01       |\r\n",
      "|  R01       |\r\n",
      "|  R01       |\r\n",
      "|  R01       |\r\n",
      "|  R01       |\r\n",
      "|  R01       |\r\n",
      "|  R01       |\r\n"
     ]
    }
   ],
   "source": [
    "! csvcut -c 1 sandbox-R01.csv | csvlook | head"
   ]
  },
  {
   "cell_type": "markdown",
   "metadata": {},
   "source": [
    "### Load pandas"
   ]
  },
  {
   "cell_type": "code",
   "execution_count": 14,
   "metadata": {
    "collapsed": true
   },
   "outputs": [],
   "source": [
    "import pandas"
   ]
  },
  {
   "cell_type": "markdown",
   "metadata": {},
   "source": [
    "### Load the data into a dataframe"
   ]
  },
  {
   "cell_type": "code",
   "execution_count": 16,
   "metadata": {
    "collapsed": false,
    "scrolled": true
   },
   "outputs": [
    {
     "data": {
      "text/html": [
       "<div>\n",
       "<table border=\"1\" class=\"dataframe\">\n",
       "  <thead>\n",
       "    <tr style=\"text-align: right;\">\n",
       "      <th></th>\n",
       "      <th>ACTIVITY</th>\n",
       "      <th>PI_IDS</th>\n",
       "      <th>PI_NAMEs</th>\n",
       "      <th>TOTAL_COST</th>\n",
       "    </tr>\n",
       "  </thead>\n",
       "  <tbody>\n",
       "    <tr>\n",
       "      <th>0</th>\n",
       "      <td>R01</td>\n",
       "      <td>7017365;</td>\n",
       "      <td>POLSTER, BRIAN M;</td>\n",
       "      <td>335781</td>\n",
       "    </tr>\n",
       "    <tr>\n",
       "      <th>1</th>\n",
       "      <td>R01</td>\n",
       "      <td>2275890 (contact); 8742217; 6139020;</td>\n",
       "      <td>DULAC, CATHERINE G (contact); REGEV, AVIV ; ZH...</td>\n",
       "      <td>1593922</td>\n",
       "    </tr>\n",
       "    <tr>\n",
       "      <th>2</th>\n",
       "      <td>R01</td>\n",
       "      <td>9868481; 2063694 (contact);</td>\n",
       "      <td>CHEN, XUESONG ; GEIGER, JONATHAN DAVID (contact);</td>\n",
       "      <td>294755</td>\n",
       "    </tr>\n",
       "    <tr>\n",
       "      <th>3</th>\n",
       "      <td>R01</td>\n",
       "      <td>9335858;</td>\n",
       "      <td>QI, LING ;</td>\n",
       "      <td>202611</td>\n",
       "    </tr>\n",
       "    <tr>\n",
       "      <th>4</th>\n",
       "      <td>R01</td>\n",
       "      <td>10940848; 1897156 (contact);</td>\n",
       "      <td>LOZANO, ANDRES M.; LYKETSOS, CONSTANTINE G (co...</td>\n",
       "      <td>472366</td>\n",
       "    </tr>\n",
       "    <tr>\n",
       "      <th>5</th>\n",
       "      <td>R01</td>\n",
       "      <td>1874169;</td>\n",
       "      <td>CLARKE, GREGORY N;</td>\n",
       "      <td>679780</td>\n",
       "    </tr>\n",
       "    <tr>\n",
       "      <th>6</th>\n",
       "      <td>R01</td>\n",
       "      <td>1879326;</td>\n",
       "      <td>FISHER, STEVEN K;</td>\n",
       "      <td>384375</td>\n",
       "    </tr>\n",
       "    <tr>\n",
       "      <th>7</th>\n",
       "      <td>R01</td>\n",
       "      <td>1901372; 3150937 (contact);</td>\n",
       "      <td>IADECOLA, COSTANTINO ; MANFREDI, GIOVANNI  (co...</td>\n",
       "      <td>370781</td>\n",
       "    </tr>\n",
       "    <tr>\n",
       "      <th>8</th>\n",
       "      <td>R01</td>\n",
       "      <td>8769887 (contact); 1880468;</td>\n",
       "      <td>CICHEWICZ, ROBERT HENRY (contact); MOOBERRY, S...</td>\n",
       "      <td>555984</td>\n",
       "    </tr>\n",
       "    <tr>\n",
       "      <th>9</th>\n",
       "      <td>R01</td>\n",
       "      <td>6444105;</td>\n",
       "      <td>FREEDLAND, KENNETH E;</td>\n",
       "      <td>698539</td>\n",
       "    </tr>\n",
       "  </tbody>\n",
       "</table>\n",
       "</div>"
      ],
      "text/plain": [
       "  ACTIVITY                                PI_IDS  \\\n",
       "0      R01                              7017365;   \n",
       "1      R01  2275890 (contact); 8742217; 6139020;   \n",
       "2      R01           9868481; 2063694 (contact);   \n",
       "3      R01                              9335858;   \n",
       "4      R01          10940848; 1897156 (contact);   \n",
       "5      R01                              1874169;   \n",
       "6      R01                              1879326;   \n",
       "7      R01           1901372; 3150937 (contact);   \n",
       "8      R01           8769887 (contact); 1880468;   \n",
       "9      R01                              6444105;   \n",
       "\n",
       "                                            PI_NAMEs  TOTAL_COST  \n",
       "0                                  POLSTER, BRIAN M;      335781  \n",
       "1  DULAC, CATHERINE G (contact); REGEV, AVIV ; ZH...     1593922  \n",
       "2  CHEN, XUESONG ; GEIGER, JONATHAN DAVID (contact);      294755  \n",
       "3                                         QI, LING ;      202611  \n",
       "4  LOZANO, ANDRES M.; LYKETSOS, CONSTANTINE G (co...      472366  \n",
       "5                                 CLARKE, GREGORY N;      679780  \n",
       "6                                  FISHER, STEVEN K;      384375  \n",
       "7  IADECOLA, COSTANTINO ; MANFREDI, GIOVANNI  (co...      370781  \n",
       "8  CICHEWICZ, ROBERT HENRY (contact); MOOBERRY, S...      555984  \n",
       "9                              FREEDLAND, KENNETH E;      698539  "
      ]
     },
     "execution_count": 16,
     "metadata": {},
     "output_type": "execute_result"
    }
   ],
   "source": [
    "nih_df = pandas.read_csv(\"./sandbox-R01.csv\")\n",
    "nih_df.head(10)"
   ]
  },
  {
   "cell_type": "markdown",
   "metadata": {},
   "source": [
    "### Drop any rows that don't have a total cost"
   ]
  },
  {
   "cell_type": "code",
   "execution_count": 17,
   "metadata": {
    "collapsed": false
   },
   "outputs": [
    {
     "data": {
      "text/html": [
       "<div>\n",
       "<table border=\"1\" class=\"dataframe\">\n",
       "  <thead>\n",
       "    <tr style=\"text-align: right;\">\n",
       "      <th></th>\n",
       "      <th>ACTIVITY</th>\n",
       "      <th>PI_IDS</th>\n",
       "      <th>PI_NAMEs</th>\n",
       "      <th>TOTAL_COST</th>\n",
       "    </tr>\n",
       "  </thead>\n",
       "  <tbody>\n",
       "    <tr>\n",
       "      <th>0</th>\n",
       "      <td>R01</td>\n",
       "      <td>7017365;</td>\n",
       "      <td>POLSTER, BRIAN M;</td>\n",
       "      <td>335781</td>\n",
       "    </tr>\n",
       "    <tr>\n",
       "      <th>1</th>\n",
       "      <td>R01</td>\n",
       "      <td>2275890 (contact); 8742217; 6139020;</td>\n",
       "      <td>DULAC, CATHERINE G (contact); REGEV, AVIV ; ZH...</td>\n",
       "      <td>1593922</td>\n",
       "    </tr>\n",
       "    <tr>\n",
       "      <th>2</th>\n",
       "      <td>R01</td>\n",
       "      <td>9868481; 2063694 (contact);</td>\n",
       "      <td>CHEN, XUESONG ; GEIGER, JONATHAN DAVID (contact);</td>\n",
       "      <td>294755</td>\n",
       "    </tr>\n",
       "    <tr>\n",
       "      <th>3</th>\n",
       "      <td>R01</td>\n",
       "      <td>9335858;</td>\n",
       "      <td>QI, LING ;</td>\n",
       "      <td>202611</td>\n",
       "    </tr>\n",
       "    <tr>\n",
       "      <th>4</th>\n",
       "      <td>R01</td>\n",
       "      <td>10940848; 1897156 (contact);</td>\n",
       "      <td>LOZANO, ANDRES M.; LYKETSOS, CONSTANTINE G (co...</td>\n",
       "      <td>472366</td>\n",
       "    </tr>\n",
       "  </tbody>\n",
       "</table>\n",
       "</div>"
      ],
      "text/plain": [
       "  ACTIVITY                                PI_IDS  \\\n",
       "0      R01                              7017365;   \n",
       "1      R01  2275890 (contact); 8742217; 6139020;   \n",
       "2      R01           9868481; 2063694 (contact);   \n",
       "3      R01                              9335858;   \n",
       "4      R01          10940848; 1897156 (contact);   \n",
       "\n",
       "                                            PI_NAMEs  TOTAL_COST  \n",
       "0                                  POLSTER, BRIAN M;      335781  \n",
       "1  DULAC, CATHERINE G (contact); REGEV, AVIV ; ZH...     1593922  \n",
       "2  CHEN, XUESONG ; GEIGER, JONATHAN DAVID (contact);      294755  \n",
       "3                                         QI, LING ;      202611  \n",
       "4  LOZANO, ANDRES M.; LYKETSOS, CONSTANTINE G (co...      472366  "
      ]
     },
     "execution_count": 17,
     "metadata": {},
     "output_type": "execute_result"
    }
   ],
   "source": [
    "nih_df2 = nih_df.dropna()\n",
    "nih_df2.head()"
   ]
  },
  {
   "cell_type": "markdown",
   "metadata": {},
   "source": [
    "### Collect all of the names into one long string and remove the word '(contact)'"
   ]
  },
  {
   "cell_type": "code",
   "execution_count": 18,
   "metadata": {
    "collapsed": false
   },
   "outputs": [],
   "source": [
    "names = \"\"\n",
    "for index, row in nih_df2.iterrows():\n",
    "    names += row['PI_NAMEs']\n",
    "    \n",
    "noContact = names.replace(\"(contact)\",\"\")"
   ]
  },
  {
   "cell_type": "markdown",
   "metadata": {},
   "source": [
    "### Split the string into a list on each semicolon"
   ]
  },
  {
   "cell_type": "code",
   "execution_count": 19,
   "metadata": {
    "collapsed": false
   },
   "outputs": [],
   "source": [
    "listOfNames = noContact.split(\";\")"
   ]
  },
  {
   "cell_type": "markdown",
   "metadata": {},
   "source": [
    "### Remove traling whitespace from each name"
   ]
  },
  {
   "cell_type": "code",
   "execution_count": 20,
   "metadata": {
    "collapsed": false,
    "scrolled": true
   },
   "outputs": [],
   "source": [
    "listOfNames = [x.strip(\" \") for x in listOfNames]"
   ]
  },
  {
   "cell_type": "markdown",
   "metadata": {},
   "source": [
    "### Remove duplicates"
   ]
  },
  {
   "cell_type": "code",
   "execution_count": 21,
   "metadata": {
    "collapsed": false
   },
   "outputs": [],
   "source": [
    "uniqueNames = [];\n",
    "for item in listOfNames:\n",
    "    if item not in uniqueNames:\n",
    "        if len(item) > 1:\n",
    "            uniqueNames.append(item)"
   ]
  },
  {
   "cell_type": "markdown",
   "metadata": {},
   "source": [
    "### Create a new data frame to store our records"
   ]
  },
  {
   "cell_type": "code",
   "execution_count": 22,
   "metadata": {
    "collapsed": false
   },
   "outputs": [
    {
     "data": {
      "text/html": [
       "<div>\n",
       "<table border=\"1\" class=\"dataframe\">\n",
       "  <thead>\n",
       "    <tr style=\"text-align: right;\">\n",
       "      <th></th>\n",
       "      <th>name</th>\n",
       "      <th>total-amount</th>\n",
       "      <th>number-of-grants</th>\n",
       "    </tr>\n",
       "  </thead>\n",
       "  <tbody>\n",
       "    <tr>\n",
       "      <th>0</th>\n",
       "      <td>POLSTER, BRIAN M</td>\n",
       "      <td>0</td>\n",
       "      <td>0</td>\n",
       "    </tr>\n",
       "    <tr>\n",
       "      <th>1</th>\n",
       "      <td>DULAC, CATHERINE G</td>\n",
       "      <td>0</td>\n",
       "      <td>0</td>\n",
       "    </tr>\n",
       "    <tr>\n",
       "      <th>2</th>\n",
       "      <td>REGEV, AVIV</td>\n",
       "      <td>0</td>\n",
       "      <td>0</td>\n",
       "    </tr>\n",
       "    <tr>\n",
       "      <th>3</th>\n",
       "      <td>ZHUANG, XIAOWEI</td>\n",
       "      <td>0</td>\n",
       "      <td>0</td>\n",
       "    </tr>\n",
       "    <tr>\n",
       "      <th>4</th>\n",
       "      <td>CHEN, XUESONG</td>\n",
       "      <td>0</td>\n",
       "      <td>0</td>\n",
       "    </tr>\n",
       "    <tr>\n",
       "      <th>5</th>\n",
       "      <td>GEIGER, JONATHAN DAVID</td>\n",
       "      <td>0</td>\n",
       "      <td>0</td>\n",
       "    </tr>\n",
       "    <tr>\n",
       "      <th>6</th>\n",
       "      <td>QI, LING</td>\n",
       "      <td>0</td>\n",
       "      <td>0</td>\n",
       "    </tr>\n",
       "    <tr>\n",
       "      <th>7</th>\n",
       "      <td>LOZANO, ANDRES M.</td>\n",
       "      <td>0</td>\n",
       "      <td>0</td>\n",
       "    </tr>\n",
       "    <tr>\n",
       "      <th>8</th>\n",
       "      <td>LYKETSOS, CONSTANTINE G</td>\n",
       "      <td>0</td>\n",
       "      <td>0</td>\n",
       "    </tr>\n",
       "    <tr>\n",
       "      <th>9</th>\n",
       "      <td>CLARKE, GREGORY N</td>\n",
       "      <td>0</td>\n",
       "      <td>0</td>\n",
       "    </tr>\n",
       "  </tbody>\n",
       "</table>\n",
       "</div>"
      ],
      "text/plain": [
       "                      name  total-amount  number-of-grants\n",
       "0         POLSTER, BRIAN M             0                 0\n",
       "1       DULAC, CATHERINE G             0                 0\n",
       "2              REGEV, AVIV             0                 0\n",
       "3          ZHUANG, XIAOWEI             0                 0\n",
       "4            CHEN, XUESONG             0                 0\n",
       "5   GEIGER, JONATHAN DAVID             0                 0\n",
       "6                 QI, LING             0                 0\n",
       "7        LOZANO, ANDRES M.             0                 0\n",
       "8  LYKETSOS, CONSTANTINE G             0                 0\n",
       "9        CLARKE, GREGORY N             0                 0"
      ]
     },
     "execution_count": 22,
     "metadata": {},
     "output_type": "execute_result"
    }
   ],
   "source": [
    "total_df = pandas.DataFrame({\n",
    "        'name': uniqueNames\n",
    "    })\n",
    "\n",
    "total_df['total-amount'] = 0\n",
    "total_df['number-of-grants'] = 0\n",
    "\n",
    "total_df.head(10)"
   ]
  },
  {
   "cell_type": "markdown",
   "metadata": {},
   "source": [
    "### Total up the cost for each instance of the names"
   ]
  },
  {
   "cell_type": "code",
   "execution_count": 23,
   "metadata": {
    "collapsed": false
   },
   "outputs": [
    {
     "name": "stderr",
     "output_type": "stream",
     "text": [
      "/Users/c.ryan/anaconda/lib/python2.7/site-packages/pandas/core/strings.py:207: UserWarning: This pattern has match groups. To actually get the groups, use str.extract.\n",
      "  \" groups, use str.extract.\", UserWarning)\n"
     ]
    },
    {
     "data": {
      "text/html": [
       "<div>\n",
       "<table border=\"1\" class=\"dataframe\">\n",
       "  <thead>\n",
       "    <tr style=\"text-align: right;\">\n",
       "      <th></th>\n",
       "      <th>name</th>\n",
       "      <th>total-amount</th>\n",
       "      <th>number-of-grants</th>\n",
       "    </tr>\n",
       "  </thead>\n",
       "  <tbody>\n",
       "    <tr>\n",
       "      <th>0</th>\n",
       "      <td>POLSTER, BRIAN M</td>\n",
       "      <td>335781</td>\n",
       "      <td>1</td>\n",
       "    </tr>\n",
       "    <tr>\n",
       "      <th>1</th>\n",
       "      <td>DULAC, CATHERINE G</td>\n",
       "      <td>3506620</td>\n",
       "      <td>4</td>\n",
       "    </tr>\n",
       "    <tr>\n",
       "      <th>2</th>\n",
       "      <td>REGEV, AVIV</td>\n",
       "      <td>2806468</td>\n",
       "      <td>2</td>\n",
       "    </tr>\n",
       "    <tr>\n",
       "      <th>3</th>\n",
       "      <td>ZHUANG, XIAOWEI</td>\n",
       "      <td>3114521</td>\n",
       "      <td>3</td>\n",
       "    </tr>\n",
       "    <tr>\n",
       "      <th>4</th>\n",
       "      <td>CHEN, XUESONG</td>\n",
       "      <td>607505</td>\n",
       "      <td>2</td>\n",
       "    </tr>\n",
       "    <tr>\n",
       "      <th>5</th>\n",
       "      <td>GEIGER, JONATHAN DAVID</td>\n",
       "      <td>607505</td>\n",
       "      <td>2</td>\n",
       "    </tr>\n",
       "    <tr>\n",
       "      <th>6</th>\n",
       "      <td>QI, LING</td>\n",
       "      <td>1260150</td>\n",
       "      <td>5</td>\n",
       "    </tr>\n",
       "    <tr>\n",
       "      <th>7</th>\n",
       "      <td>LOZANO, ANDRES M.</td>\n",
       "      <td>472366</td>\n",
       "      <td>1</td>\n",
       "    </tr>\n",
       "    <tr>\n",
       "      <th>8</th>\n",
       "      <td>LYKETSOS, CONSTANTINE G</td>\n",
       "      <td>4397431</td>\n",
       "      <td>3</td>\n",
       "    </tr>\n",
       "    <tr>\n",
       "      <th>9</th>\n",
       "      <td>CLARKE, GREGORY N</td>\n",
       "      <td>2191656</td>\n",
       "      <td>3</td>\n",
       "    </tr>\n",
       "  </tbody>\n",
       "</table>\n",
       "</div>"
      ],
      "text/plain": [
       "                      name  total-amount  number-of-grants\n",
       "0         POLSTER, BRIAN M        335781                 1\n",
       "1       DULAC, CATHERINE G       3506620                 4\n",
       "2              REGEV, AVIV       2806468                 2\n",
       "3          ZHUANG, XIAOWEI       3114521                 3\n",
       "4            CHEN, XUESONG        607505                 2\n",
       "5   GEIGER, JONATHAN DAVID        607505                 2\n",
       "6                 QI, LING       1260150                 5\n",
       "7        LOZANO, ANDRES M.        472366                 1\n",
       "8  LYKETSOS, CONSTANTINE G       4397431                 3\n",
       "9        CLARKE, GREGORY N       2191656                 3"
      ]
     },
     "execution_count": 23,
     "metadata": {},
     "output_type": "execute_result"
    }
   ],
   "source": [
    "for i, totalElem in total_df.iterrows():\n",
    "    thisName = totalElem['name']\n",
    "    if thisName != 'nan':\n",
    "        name_correct_index = nih_df2['PI_NAMEs'].str.contains(thisName, case=True)\n",
    "        name_correct = nih_df2[name_correct_index]\n",
    "        summed = name_correct['TOTAL_COST'].sum()\n",
    "        number = len(name_correct['PI_NAMEs'])\n",
    "        total_df.set_value(i, 'total-amount', summed)\n",
    "        total_df.set_value(i, 'number-of-grants', number)\n",
    "\n",
    "\n",
    "total_df.head(10)"
   ]
  },
  {
   "cell_type": "markdown",
   "metadata": {},
   "source": [
    "### Count rows in new dataframe"
   ]
  },
  {
   "cell_type": "code",
   "execution_count": 24,
   "metadata": {
    "collapsed": false,
    "scrolled": true
   },
   "outputs": [
    {
     "data": {
      "text/plain": [
       "21594"
      ]
     },
     "execution_count": 24,
     "metadata": {},
     "output_type": "execute_result"
    }
   ],
   "source": [
    "len(total_df['name'])"
   ]
  },
  {
   "cell_type": "markdown",
   "metadata": {},
   "source": [
    "### Sort by total-amount"
   ]
  },
  {
   "cell_type": "code",
   "execution_count": 25,
   "metadata": {
    "collapsed": false
   },
   "outputs": [
    {
     "data": {
      "text/html": [
       "<div>\n",
       "<table border=\"1\" class=\"dataframe\">\n",
       "  <thead>\n",
       "    <tr style=\"text-align: right;\">\n",
       "      <th></th>\n",
       "      <th>name</th>\n",
       "      <th>total-amount</th>\n",
       "      <th>number-of-grants</th>\n",
       "    </tr>\n",
       "  </thead>\n",
       "  <tbody>\n",
       "    <tr>\n",
       "      <th>589</th>\n",
       "      <td>BURNS, JEFFREY MURRAY</td>\n",
       "      <td>8049330</td>\n",
       "      <td>3</td>\n",
       "    </tr>\n",
       "    <tr>\n",
       "      <th>16133</th>\n",
       "      <td>WANG, XIAO</td>\n",
       "      <td>7824555</td>\n",
       "      <td>19</td>\n",
       "    </tr>\n",
       "    <tr>\n",
       "      <th>11711</th>\n",
       "      <td>JOHNSTON, LLOYD D</td>\n",
       "      <td>6991146</td>\n",
       "      <td>2</td>\n",
       "    </tr>\n",
       "    <tr>\n",
       "      <th>14894</th>\n",
       "      <td>LI, JI</td>\n",
       "      <td>6668040</td>\n",
       "      <td>13</td>\n",
       "    </tr>\n",
       "    <tr>\n",
       "      <th>3358</th>\n",
       "      <td>WANG, YI</td>\n",
       "      <td>6568160</td>\n",
       "      <td>12</td>\n",
       "    </tr>\n",
       "    <tr>\n",
       "      <th>6328</th>\n",
       "      <td>SASTRY, NARAYAN</td>\n",
       "      <td>6561002</td>\n",
       "      <td>5</td>\n",
       "    </tr>\n",
       "    <tr>\n",
       "      <th>1501</th>\n",
       "      <td>BATEMAN, RANDALL J</td>\n",
       "      <td>6517026</td>\n",
       "      <td>3</td>\n",
       "    </tr>\n",
       "    <tr>\n",
       "      <th>14641</th>\n",
       "      <td>JOHNSON, KEITH A.</td>\n",
       "      <td>6274848</td>\n",
       "      <td>4</td>\n",
       "    </tr>\n",
       "    <tr>\n",
       "      <th>10994</th>\n",
       "      <td>AISEN, PAUL S.</td>\n",
       "      <td>5949179</td>\n",
       "      <td>3</td>\n",
       "    </tr>\n",
       "    <tr>\n",
       "      <th>8439</th>\n",
       "      <td>CHEN, XI</td>\n",
       "      <td>5900198</td>\n",
       "      <td>17</td>\n",
       "    </tr>\n",
       "  </tbody>\n",
       "</table>\n",
       "</div>"
      ],
      "text/plain": [
       "                        name  total-amount  number-of-grants\n",
       "589    BURNS, JEFFREY MURRAY       8049330                 3\n",
       "16133             WANG, XIAO       7824555                19\n",
       "11711      JOHNSTON, LLOYD D       6991146                 2\n",
       "14894                 LI, JI       6668040                13\n",
       "3358                WANG, YI       6568160                12\n",
       "6328         SASTRY, NARAYAN       6561002                 5\n",
       "1501      BATEMAN, RANDALL J       6517026                 3\n",
       "14641      JOHNSON, KEITH A.       6274848                 4\n",
       "10994         AISEN, PAUL S.       5949179                 3\n",
       "8439                CHEN, XI       5900198                17"
      ]
     },
     "execution_count": 25,
     "metadata": {},
     "output_type": "execute_result"
    }
   ],
   "source": [
    "sorted_df = total_df.sort('total-amount', ascending=False)\n",
    "sorted_df.head(10)"
   ]
  },
  {
   "cell_type": "markdown",
   "metadata": {},
   "source": [
    "### Export to a new csv"
   ]
  },
  {
   "cell_type": "code",
   "execution_count": 26,
   "metadata": {
    "collapsed": false
   },
   "outputs": [],
   "source": [
    "sorted_df.to_csv('sandbox-output-r01.csv', sep=',')"
   ]
  },
  {
   "cell_type": "markdown",
   "metadata": {},
   "source": [
    "### Count the number of lines in this new file"
   ]
  },
  {
   "cell_type": "code",
   "execution_count": 27,
   "metadata": {
    "collapsed": false
   },
   "outputs": [
    {
     "name": "stdout",
     "output_type": "stream",
     "text": [
      "   21595 sandbox-output-r01.csv\r\n"
     ]
    }
   ],
   "source": [
    "! wc -l sandbox-output-r01.csv"
   ]
  },
  {
   "cell_type": "markdown",
   "metadata": {},
   "source": [
    "### Drop the first column"
   ]
  },
  {
   "cell_type": "code",
   "execution_count": 30,
   "metadata": {
    "collapsed": false
   },
   "outputs": [],
   "source": [
    "! csvcut -c 2,3,4 sandbox-output-r01.csv > temp && mv temp sandbox-output-r01.csv"
   ]
  }
 ],
 "metadata": {
  "kernelspec": {
   "display_name": "Python 2",
   "language": "python",
   "name": "python2"
  },
  "language_info": {
   "codemirror_mode": {
    "name": "ipython",
    "version": 2
   },
   "file_extension": ".py",
   "mimetype": "text/x-python",
   "name": "python",
   "nbconvert_exporter": "python",
   "pygments_lexer": "ipython2",
   "version": "2.7.10"
  }
 },
 "nbformat": 4,
 "nbformat_minor": 0
}
