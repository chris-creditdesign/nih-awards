{
 "cells": [
  {
   "cell_type": "markdown",
   "metadata": {},
   "source": [
    "### Convert to \"utf-8\" encoded"
   ]
  },
  {
   "cell_type": "code",
   "execution_count": 1,
   "metadata": {
    "collapsed": true
   },
   "outputs": [],
   "source": [
    "! in2csv -e iso-8859-1 'RePORTER_PRJ_C_FY2016.csv' > sandbox.csv"
   ]
  },
  {
   "cell_type": "markdown",
   "metadata": {},
   "source": [
    "### Get a numbered list of the columns"
   ]
  },
  {
   "cell_type": "code",
   "execution_count": 2,
   "metadata": {
    "collapsed": false
   },
   "outputs": [
    {
     "name": "stdout",
     "output_type": "stream",
     "text": [
      "  1: APPLICATION_ID\r\n",
      "  2: ACTIVITY\r\n",
      "  3: ADMINISTERING_IC\r\n",
      "  4: APPLICATION_TYPE\r\n",
      "  5: ARRA_FUNDED\r\n",
      "  6: AWARD_NOTICE_DATE\r\n",
      "  7: BUDGET_START\r\n",
      "  8: BUDGET_END\r\n",
      "  9: CFDA_CODE\r\n",
      " 10: CORE_PROJECT_NUM\r\n",
      " 11: ED_INST_TYPE\r\n",
      " 12: FOA_NUMBER\r\n",
      " 13: FULL_PROJECT_NUM\r\n",
      " 14: FUNDING_ICs\r\n",
      " 15: FUNDING_MECHANISM\r\n",
      " 16: FY\r\n",
      " 17: IC_NAME\r\n",
      " 18: NIH_SPENDING_CATS\r\n",
      " 19: ORG_CITY\r\n",
      " 20: ORG_COUNTRY\r\n",
      " 21: ORG_DEPT\r\n",
      " 22: ORG_DISTRICT\r\n",
      " 23: ORG_DUNS\r\n",
      " 24: ORG_FIPS\r\n",
      " 25: ORG_NAME\r\n",
      " 26: ORG_STATE\r\n",
      " 27: ORG_ZIPCODE\r\n",
      " 28: PHR\r\n",
      " 29: PI_IDS\r\n",
      " 30: PI_NAMEs\r\n",
      " 31: PROGRAM_OFFICER_NAME\r\n",
      " 32: PROJECT_START\r\n",
      " 33: PROJECT_END\r\n",
      " 34: PROJECT_TERMS\r\n",
      " 35: PROJECT_TITLE\r\n",
      " 36: SERIAL_NUMBER\r\n",
      " 37: STUDY_SECTION\r\n",
      " 38: STUDY_SECTION_NAME\r\n",
      " 39: SUBPROJECT_ID\r\n",
      " 40: SUFFIX\r\n",
      " 41: SUPPORT_YEAR\r\n",
      " 42: DIRECT_COST_AMT\r\n",
      " 43: INDIRECT_COST_AMT\r\n",
      " 44: TOTAL_COST\r\n",
      " 45: TOTAL_COST_SUB_PROJECT\r\n"
     ]
    }
   ],
   "source": [
    "! csvcut -n sandbox.csv"
   ]
  },
  {
   "cell_type": "markdown",
   "metadata": {},
   "source": [
    "### Extract just the grant type (activity), investigator IDs, name and total cost"
   ]
  },
  {
   "cell_type": "code",
   "execution_count": 3,
   "metadata": {
    "collapsed": false
   },
   "outputs": [],
   "source": [
    "! csvcut -c 2,29,30,44 sandbox.csv > temp && mv temp sandbox-cut.csv"
   ]
  },
  {
   "cell_type": "markdown",
   "metadata": {},
   "source": [
    "### Take a look at the grant types"
   ]
  },
  {
   "cell_type": "code",
   "execution_count": 5,
   "metadata": {
    "collapsed": false
   },
   "outputs": [
    {
     "name": "stdout",
     "output_type": "stream",
     "text": [
      "|------------|\r\n",
      "|  ACTIVITY  |\r\n",
      "|------------|\r\n",
      "|  K23       |\r\n",
      "|  R01       |\r\n",
      "|  D43       |\r\n",
      "|  R01       |\r\n",
      "|  R01       |\r\n",
      "|  P41       |\r\n",
      "|  U01       |\r\n"
     ]
    }
   ],
   "source": [
    "! csvcut -c 1 sandbox-cut.csv | csvlook | head"
   ]
  },
  {
   "cell_type": "markdown",
   "metadata": {},
   "source": [
    "### Remove any grant type that is not RO1"
   ]
  },
  {
   "cell_type": "code",
   "execution_count": 20,
   "metadata": {
    "collapsed": false
   },
   "outputs": [],
   "source": [
    "! csvgrep -c 1 -r 'R01|DP2|R23|R29|R37' sandbox-cut.csv > sandbox-grant-types.csv"
   ]
  },
  {
   "cell_type": "markdown",
   "metadata": {},
   "source": [
    "### Take a look at the grant type"
   ]
  },
  {
   "cell_type": "code",
   "execution_count": 24,
   "metadata": {
    "collapsed": false
   },
   "outputs": [
    {
     "name": "stdout",
     "output_type": "stream",
     "text": [
      "|------------|\r\n",
      "|  ACTIVITY  |\r\n",
      "|------------|\r\n",
      "|  R01       |\r\n",
      "|  R01       |\r\n",
      "|  R01       |\r\n",
      "|  R01       |\r\n",
      "|  R01       |\r\n",
      "|  R01       |\r\n",
      "|  DP2       |\r\n"
     ]
    }
   ],
   "source": [
    "! csvcut -c 1 sandbox-grant-types.csv | csvlook | head"
   ]
  },
  {
   "cell_type": "markdown",
   "metadata": {},
   "source": [
    "### Load pandas"
   ]
  },
  {
   "cell_type": "code",
   "execution_count": 25,
   "metadata": {
    "collapsed": true
   },
   "outputs": [],
   "source": [
    "import pandas"
   ]
  },
  {
   "cell_type": "markdown",
   "metadata": {},
   "source": [
    "### Load the data into a dataframe"
   ]
  },
  {
   "cell_type": "code",
   "execution_count": 27,
   "metadata": {
    "collapsed": false,
    "scrolled": true
   },
   "outputs": [
    {
     "data": {
      "text/html": [
       "<div>\n",
       "<table border=\"1\" class=\"dataframe\">\n",
       "  <thead>\n",
       "    <tr style=\"text-align: right;\">\n",
       "      <th></th>\n",
       "      <th>ACTIVITY</th>\n",
       "      <th>PI_IDS</th>\n",
       "      <th>PI_NAMEs</th>\n",
       "      <th>TOTAL_COST</th>\n",
       "    </tr>\n",
       "  </thead>\n",
       "  <tbody>\n",
       "    <tr>\n",
       "      <th>0</th>\n",
       "      <td>R01</td>\n",
       "      <td>7017365;</td>\n",
       "      <td>POLSTER, BRIAN M;</td>\n",
       "      <td>335781</td>\n",
       "    </tr>\n",
       "    <tr>\n",
       "      <th>1</th>\n",
       "      <td>R01</td>\n",
       "      <td>2275890 (contact); 8742217; 6139020;</td>\n",
       "      <td>DULAC, CATHERINE G (contact); REGEV, AVIV ; ZH...</td>\n",
       "      <td>1593922</td>\n",
       "    </tr>\n",
       "    <tr>\n",
       "      <th>2</th>\n",
       "      <td>R01</td>\n",
       "      <td>9868481; 2063694 (contact);</td>\n",
       "      <td>CHEN, XUESONG ; GEIGER, JONATHAN DAVID (contact);</td>\n",
       "      <td>294755</td>\n",
       "    </tr>\n",
       "    <tr>\n",
       "      <th>3</th>\n",
       "      <td>R01</td>\n",
       "      <td>9335858;</td>\n",
       "      <td>QI, LING ;</td>\n",
       "      <td>202611</td>\n",
       "    </tr>\n",
       "    <tr>\n",
       "      <th>4</th>\n",
       "      <td>R01</td>\n",
       "      <td>10940848; 1897156 (contact);</td>\n",
       "      <td>LOZANO, ANDRES M.; LYKETSOS, CONSTANTINE G (co...</td>\n",
       "      <td>472366</td>\n",
       "    </tr>\n",
       "  </tbody>\n",
       "</table>\n",
       "</div>"
      ],
      "text/plain": [
       "  ACTIVITY                                PI_IDS  \\\n",
       "0      R01                              7017365;   \n",
       "1      R01  2275890 (contact); 8742217; 6139020;   \n",
       "2      R01           9868481; 2063694 (contact);   \n",
       "3      R01                              9335858;   \n",
       "4      R01          10940848; 1897156 (contact);   \n",
       "\n",
       "                                            PI_NAMEs  TOTAL_COST  \n",
       "0                                  POLSTER, BRIAN M;      335781  \n",
       "1  DULAC, CATHERINE G (contact); REGEV, AVIV ; ZH...     1593922  \n",
       "2  CHEN, XUESONG ; GEIGER, JONATHAN DAVID (contact);      294755  \n",
       "3                                         QI, LING ;      202611  \n",
       "4  LOZANO, ANDRES M.; LYKETSOS, CONSTANTINE G (co...      472366  "
      ]
     },
     "execution_count": 27,
     "metadata": {},
     "output_type": "execute_result"
    }
   ],
   "source": [
    "nih_df = pandas.read_csv(\"./sandbox-grant-types.csv\")\n",
    "nih_df.head()"
   ]
  },
  {
   "cell_type": "markdown",
   "metadata": {},
   "source": [
    "### Drop any rows that don't have a total cost"
   ]
  },
  {
   "cell_type": "code",
   "execution_count": 28,
   "metadata": {
    "collapsed": false
   },
   "outputs": [],
   "source": [
    "nih_df2 = nih_df.dropna()"
   ]
  },
  {
   "cell_type": "markdown",
   "metadata": {},
   "source": [
    "### Collect all of the names into one long string and remove the word '(contact)'"
   ]
  },
  {
   "cell_type": "code",
   "execution_count": 29,
   "metadata": {
    "collapsed": false
   },
   "outputs": [],
   "source": [
    "names = \"\"\n",
    "for index, row in nih_df2.iterrows():\n",
    "    names += row['PI_NAMEs']\n",
    "    \n",
    "noContact = names.replace(\"(contact)\",\"\")"
   ]
  },
  {
   "cell_type": "markdown",
   "metadata": {},
   "source": [
    "### Split the string into a list on each semicolon"
   ]
  },
  {
   "cell_type": "code",
   "execution_count": 30,
   "metadata": {
    "collapsed": false
   },
   "outputs": [],
   "source": [
    "listOfNames = noContact.split(\";\")"
   ]
  },
  {
   "cell_type": "markdown",
   "metadata": {},
   "source": [
    "### Remove traling whitespace from each name"
   ]
  },
  {
   "cell_type": "code",
   "execution_count": 31,
   "metadata": {
    "collapsed": false,
    "scrolled": true
   },
   "outputs": [],
   "source": [
    "listOfNames = [x.strip(\" \") for x in listOfNames]"
   ]
  },
  {
   "cell_type": "markdown",
   "metadata": {},
   "source": [
    "### Remove duplicates"
   ]
  },
  {
   "cell_type": "code",
   "execution_count": 32,
   "metadata": {
    "collapsed": false
   },
   "outputs": [],
   "source": [
    "uniqueNames = [];\n",
    "for item in listOfNames:\n",
    "    if item not in uniqueNames:\n",
    "        if len(item) > 1:\n",
    "            uniqueNames.append(item)"
   ]
  },
  {
   "cell_type": "markdown",
   "metadata": {},
   "source": [
    "### Create a new data frame to store our records"
   ]
  },
  {
   "cell_type": "code",
   "execution_count": 33,
   "metadata": {
    "collapsed": false
   },
   "outputs": [
    {
     "data": {
      "text/html": [
       "<div>\n",
       "<table border=\"1\" class=\"dataframe\">\n",
       "  <thead>\n",
       "    <tr style=\"text-align: right;\">\n",
       "      <th></th>\n",
       "      <th>name</th>\n",
       "      <th>total-amount</th>\n",
       "      <th>number-of-grants</th>\n",
       "      <th>grant-types</th>\n",
       "    </tr>\n",
       "  </thead>\n",
       "  <tbody>\n",
       "    <tr>\n",
       "      <th>0</th>\n",
       "      <td>POLSTER, BRIAN M</td>\n",
       "      <td>0</td>\n",
       "      <td>0</td>\n",
       "      <td></td>\n",
       "    </tr>\n",
       "    <tr>\n",
       "      <th>1</th>\n",
       "      <td>DULAC, CATHERINE G</td>\n",
       "      <td>0</td>\n",
       "      <td>0</td>\n",
       "      <td></td>\n",
       "    </tr>\n",
       "    <tr>\n",
       "      <th>2</th>\n",
       "      <td>REGEV, AVIV</td>\n",
       "      <td>0</td>\n",
       "      <td>0</td>\n",
       "      <td></td>\n",
       "    </tr>\n",
       "    <tr>\n",
       "      <th>3</th>\n",
       "      <td>ZHUANG, XIAOWEI</td>\n",
       "      <td>0</td>\n",
       "      <td>0</td>\n",
       "      <td></td>\n",
       "    </tr>\n",
       "    <tr>\n",
       "      <th>4</th>\n",
       "      <td>CHEN, XUESONG</td>\n",
       "      <td>0</td>\n",
       "      <td>0</td>\n",
       "      <td></td>\n",
       "    </tr>\n",
       "    <tr>\n",
       "      <th>5</th>\n",
       "      <td>GEIGER, JONATHAN DAVID</td>\n",
       "      <td>0</td>\n",
       "      <td>0</td>\n",
       "      <td></td>\n",
       "    </tr>\n",
       "    <tr>\n",
       "      <th>6</th>\n",
       "      <td>QI, LING</td>\n",
       "      <td>0</td>\n",
       "      <td>0</td>\n",
       "      <td></td>\n",
       "    </tr>\n",
       "    <tr>\n",
       "      <th>7</th>\n",
       "      <td>LOZANO, ANDRES M.</td>\n",
       "      <td>0</td>\n",
       "      <td>0</td>\n",
       "      <td></td>\n",
       "    </tr>\n",
       "    <tr>\n",
       "      <th>8</th>\n",
       "      <td>LYKETSOS, CONSTANTINE G</td>\n",
       "      <td>0</td>\n",
       "      <td>0</td>\n",
       "      <td></td>\n",
       "    </tr>\n",
       "    <tr>\n",
       "      <th>9</th>\n",
       "      <td>CLARKE, GREGORY N</td>\n",
       "      <td>0</td>\n",
       "      <td>0</td>\n",
       "      <td></td>\n",
       "    </tr>\n",
       "  </tbody>\n",
       "</table>\n",
       "</div>"
      ],
      "text/plain": [
       "                      name  total-amount  number-of-grants grant-types\n",
       "0         POLSTER, BRIAN M             0                 0            \n",
       "1       DULAC, CATHERINE G             0                 0            \n",
       "2              REGEV, AVIV             0                 0            \n",
       "3          ZHUANG, XIAOWEI             0                 0            \n",
       "4            CHEN, XUESONG             0                 0            \n",
       "5   GEIGER, JONATHAN DAVID             0                 0            \n",
       "6                 QI, LING             0                 0            \n",
       "7        LOZANO, ANDRES M.             0                 0            \n",
       "8  LYKETSOS, CONSTANTINE G             0                 0            \n",
       "9        CLARKE, GREGORY N             0                 0            "
      ]
     },
     "execution_count": 33,
     "metadata": {},
     "output_type": "execute_result"
    }
   ],
   "source": [
    "total_df = pandas.DataFrame({\n",
    "        'name': uniqueNames\n",
    "    })\n",
    "\n",
    "total_df['total-amount'] = 0\n",
    "total_df['number-of-grants'] = 0\n",
    "total_df['grant-types'] = \"\"\n",
    "\n",
    "total_df.head(10)"
   ]
  },
  {
   "cell_type": "markdown",
   "metadata": {},
   "source": [
    "### Total up the cost for each instance of the names"
   ]
  },
  {
   "cell_type": "code",
   "execution_count": 37,
   "metadata": {
    "collapsed": false
   },
   "outputs": [
    {
     "data": {
      "text/html": [
       "<div>\n",
       "<table border=\"1\" class=\"dataframe\">\n",
       "  <thead>\n",
       "    <tr style=\"text-align: right;\">\n",
       "      <th></th>\n",
       "      <th>name</th>\n",
       "      <th>total-amount</th>\n",
       "      <th>number-of-grants</th>\n",
       "      <th>grant-types</th>\n",
       "    </tr>\n",
       "  </thead>\n",
       "  <tbody>\n",
       "    <tr>\n",
       "      <th>0</th>\n",
       "      <td>POLSTER, BRIAN M</td>\n",
       "      <td>335781</td>\n",
       "      <td>1</td>\n",
       "      <td>R01</td>\n",
       "    </tr>\n",
       "    <tr>\n",
       "      <th>1</th>\n",
       "      <td>DULAC, CATHERINE G</td>\n",
       "      <td>3506620</td>\n",
       "      <td>4</td>\n",
       "      <td>R01 R01 R01 R01</td>\n",
       "    </tr>\n",
       "    <tr>\n",
       "      <th>2</th>\n",
       "      <td>REGEV, AVIV</td>\n",
       "      <td>2806468</td>\n",
       "      <td>2</td>\n",
       "      <td>R01 R01</td>\n",
       "    </tr>\n",
       "    <tr>\n",
       "      <th>3</th>\n",
       "      <td>ZHUANG, XIAOWEI</td>\n",
       "      <td>3114521</td>\n",
       "      <td>3</td>\n",
       "      <td>R01 R01 R01</td>\n",
       "    </tr>\n",
       "    <tr>\n",
       "      <th>4</th>\n",
       "      <td>CHEN, XUESONG</td>\n",
       "      <td>607505</td>\n",
       "      <td>2</td>\n",
       "      <td>R01 R01</td>\n",
       "    </tr>\n",
       "    <tr>\n",
       "      <th>5</th>\n",
       "      <td>GEIGER, JONATHAN DAVID</td>\n",
       "      <td>607505</td>\n",
       "      <td>2</td>\n",
       "      <td>R01 R01</td>\n",
       "    </tr>\n",
       "    <tr>\n",
       "      <th>6</th>\n",
       "      <td>QI, LING</td>\n",
       "      <td>1260150</td>\n",
       "      <td>5</td>\n",
       "      <td>R01 R01 R01 R01 R01</td>\n",
       "    </tr>\n",
       "    <tr>\n",
       "      <th>7</th>\n",
       "      <td>LOZANO, ANDRES M.</td>\n",
       "      <td>472366</td>\n",
       "      <td>1</td>\n",
       "      <td>R01</td>\n",
       "    </tr>\n",
       "    <tr>\n",
       "      <th>8</th>\n",
       "      <td>LYKETSOS, CONSTANTINE G</td>\n",
       "      <td>4397431</td>\n",
       "      <td>3</td>\n",
       "      <td>R01 R01 R01</td>\n",
       "    </tr>\n",
       "    <tr>\n",
       "      <th>9</th>\n",
       "      <td>CLARKE, GREGORY N</td>\n",
       "      <td>2191656</td>\n",
       "      <td>3</td>\n",
       "      <td>R01 R01 R01</td>\n",
       "    </tr>\n",
       "  </tbody>\n",
       "</table>\n",
       "</div>"
      ],
      "text/plain": [
       "                      name  total-amount  number-of-grants  \\\n",
       "0         POLSTER, BRIAN M        335781                 1   \n",
       "1       DULAC, CATHERINE G       3506620                 4   \n",
       "2              REGEV, AVIV       2806468                 2   \n",
       "3          ZHUANG, XIAOWEI       3114521                 3   \n",
       "4            CHEN, XUESONG        607505                 2   \n",
       "5   GEIGER, JONATHAN DAVID        607505                 2   \n",
       "6                 QI, LING       1260150                 5   \n",
       "7        LOZANO, ANDRES M.        472366                 1   \n",
       "8  LYKETSOS, CONSTANTINE G       4397431                 3   \n",
       "9        CLARKE, GREGORY N       2191656                 3   \n",
       "\n",
       "           grant-types  \n",
       "0                  R01  \n",
       "1      R01 R01 R01 R01  \n",
       "2              R01 R01  \n",
       "3          R01 R01 R01  \n",
       "4              R01 R01  \n",
       "5              R01 R01  \n",
       "6  R01 R01 R01 R01 R01  \n",
       "7                  R01  \n",
       "8          R01 R01 R01  \n",
       "9          R01 R01 R01  "
      ]
     },
     "execution_count": 37,
     "metadata": {},
     "output_type": "execute_result"
    }
   ],
   "source": [
    "for i, totalElem in total_df.iterrows():\n",
    "    thisName = totalElem['name']\n",
    "    if thisName != 'nan':\n",
    "        name_correct_index = nih_df2['PI_NAMEs'].str.contains(thisName, case=True)\n",
    "        name_correct = nih_df2[name_correct_index]\n",
    "        summed = name_correct['TOTAL_COST'].sum()\n",
    "        number = len(name_correct['PI_NAMEs'])\n",
    "        types = name_correct['ACTIVITY'].str.cat(sep=' ')\n",
    "        total_df.set_value(i, 'total-amount', summed)\n",
    "        total_df.set_value(i, 'number-of-grants', number)\n",
    "        total_df.set_value(i, 'grant-types', types)\n",
    "\n",
    "\n",
    "total_df.head(10)"
   ]
  },
  {
   "cell_type": "markdown",
   "metadata": {},
   "source": [
    "### Count rows in new dataframe"
   ]
  },
  {
   "cell_type": "code",
   "execution_count": 38,
   "metadata": {
    "collapsed": false,
    "scrolled": true
   },
   "outputs": [
    {
     "data": {
      "text/plain": [
       "21848"
      ]
     },
     "execution_count": 38,
     "metadata": {},
     "output_type": "execute_result"
    }
   ],
   "source": [
    "len(total_df['name'])"
   ]
  },
  {
   "cell_type": "markdown",
   "metadata": {},
   "source": [
    "### Sort by total-amount"
   ]
  },
  {
   "cell_type": "code",
   "execution_count": 39,
   "metadata": {
    "collapsed": false
   },
   "outputs": [
    {
     "data": {
      "text/html": [
       "<div>\n",
       "<table border=\"1\" class=\"dataframe\">\n",
       "  <thead>\n",
       "    <tr style=\"text-align: right;\">\n",
       "      <th></th>\n",
       "      <th>name</th>\n",
       "      <th>total-amount</th>\n",
       "      <th>number-of-grants</th>\n",
       "      <th>grant-types</th>\n",
       "    </tr>\n",
       "  </thead>\n",
       "  <tbody>\n",
       "    <tr>\n",
       "      <th>594</th>\n",
       "      <td>BURNS, JEFFREY MURRAY</td>\n",
       "      <td>8049330</td>\n",
       "      <td>3</td>\n",
       "      <td>R01 R01 R01</td>\n",
       "    </tr>\n",
       "    <tr>\n",
       "      <th>16337</th>\n",
       "      <td>WANG, XIAO</td>\n",
       "      <td>7824555</td>\n",
       "      <td>19</td>\n",
       "      <td>R01 R01 R01 R01 R01 R01 R01 R01 R01 R01 R01 R0...</td>\n",
       "    </tr>\n",
       "    <tr>\n",
       "      <th>11872</th>\n",
       "      <td>JOHNSTON, LLOYD D</td>\n",
       "      <td>6991146</td>\n",
       "      <td>2</td>\n",
       "      <td>R01 R01</td>\n",
       "    </tr>\n",
       "    <tr>\n",
       "      <th>15087</th>\n",
       "      <td>LI, JI</td>\n",
       "      <td>6668040</td>\n",
       "      <td>13</td>\n",
       "      <td>R01 R01 R01 R01 R01 R01 R01 R01 R01 R01 R01 R0...</td>\n",
       "    </tr>\n",
       "    <tr>\n",
       "      <th>3415</th>\n",
       "      <td>WANG, YI</td>\n",
       "      <td>6568160</td>\n",
       "      <td>12</td>\n",
       "      <td>R01 R01 R01 R01 R01 R01 R01 R01 R01 R01 R01 R01</td>\n",
       "    </tr>\n",
       "    <tr>\n",
       "      <th>6423</th>\n",
       "      <td>SASTRY, NARAYAN</td>\n",
       "      <td>6561002</td>\n",
       "      <td>5</td>\n",
       "      <td>R01 R01 R01 R01 R01</td>\n",
       "    </tr>\n",
       "    <tr>\n",
       "      <th>1525</th>\n",
       "      <td>BATEMAN, RANDALL J</td>\n",
       "      <td>6517026</td>\n",
       "      <td>3</td>\n",
       "      <td>R01 R01 R01</td>\n",
       "    </tr>\n",
       "    <tr>\n",
       "      <th>3099</th>\n",
       "      <td>DEISSEROTH, KARL A.</td>\n",
       "      <td>6290349</td>\n",
       "      <td>4</td>\n",
       "      <td>R01 R37 R01 R01</td>\n",
       "    </tr>\n",
       "    <tr>\n",
       "      <th>14831</th>\n",
       "      <td>JOHNSON, KEITH A.</td>\n",
       "      <td>6274848</td>\n",
       "      <td>4</td>\n",
       "      <td>R01 R01 R01 R01</td>\n",
       "    </tr>\n",
       "    <tr>\n",
       "      <th>11146</th>\n",
       "      <td>AISEN, PAUL S.</td>\n",
       "      <td>5949179</td>\n",
       "      <td>3</td>\n",
       "      <td>R01 R01 R01</td>\n",
       "    </tr>\n",
       "  </tbody>\n",
       "</table>\n",
       "</div>"
      ],
      "text/plain": [
       "                        name  total-amount  number-of-grants  \\\n",
       "594    BURNS, JEFFREY MURRAY       8049330                 3   \n",
       "16337             WANG, XIAO       7824555                19   \n",
       "11872      JOHNSTON, LLOYD D       6991146                 2   \n",
       "15087                 LI, JI       6668040                13   \n",
       "3415                WANG, YI       6568160                12   \n",
       "6423         SASTRY, NARAYAN       6561002                 5   \n",
       "1525      BATEMAN, RANDALL J       6517026                 3   \n",
       "3099     DEISSEROTH, KARL A.       6290349                 4   \n",
       "14831      JOHNSON, KEITH A.       6274848                 4   \n",
       "11146         AISEN, PAUL S.       5949179                 3   \n",
       "\n",
       "                                             grant-types  \n",
       "594                                          R01 R01 R01  \n",
       "16337  R01 R01 R01 R01 R01 R01 R01 R01 R01 R01 R01 R0...  \n",
       "11872                                            R01 R01  \n",
       "15087  R01 R01 R01 R01 R01 R01 R01 R01 R01 R01 R01 R0...  \n",
       "3415     R01 R01 R01 R01 R01 R01 R01 R01 R01 R01 R01 R01  \n",
       "6423                                 R01 R01 R01 R01 R01  \n",
       "1525                                         R01 R01 R01  \n",
       "3099                                     R01 R37 R01 R01  \n",
       "14831                                    R01 R01 R01 R01  \n",
       "11146                                        R01 R01 R01  "
      ]
     },
     "execution_count": 39,
     "metadata": {},
     "output_type": "execute_result"
    }
   ],
   "source": [
    "sorted_df = total_df.sort('total-amount', ascending=False)\n",
    "sorted_df.head(10)"
   ]
  },
  {
   "cell_type": "markdown",
   "metadata": {},
   "source": [
    "### Export to a new csv"
   ]
  },
  {
   "cell_type": "code",
   "execution_count": 44,
   "metadata": {
    "collapsed": false
   },
   "outputs": [],
   "source": [
    "sorted_df.to_csv('sandbox-output-types.csv', sep=',')"
   ]
  },
  {
   "cell_type": "markdown",
   "metadata": {},
   "source": [
    "### Count the number of lines in this new file"
   ]
  },
  {
   "cell_type": "code",
   "execution_count": 45,
   "metadata": {
    "collapsed": false
   },
   "outputs": [
    {
     "name": "stdout",
     "output_type": "stream",
     "text": [
      "   21849 sandbox-output-types.csv\r\n"
     ]
    }
   ],
   "source": [
    "! wc -l sandbox-output-types.csv"
   ]
  },
  {
   "cell_type": "markdown",
   "metadata": {},
   "source": [
    "### Drop the first column"
   ]
  },
  {
   "cell_type": "code",
   "execution_count": 46,
   "metadata": {
    "collapsed": false
   },
   "outputs": [],
   "source": [
    "! csvcut -c 2,3,4,5 sandbox-output-types.csv > temp && mv temp sandbox-output-types.csv"
   ]
  }
 ],
 "metadata": {
  "kernelspec": {
   "display_name": "Python 2",
   "language": "python",
   "name": "python2"
  },
  "language_info": {
   "codemirror_mode": {
    "name": "ipython",
    "version": 2
   },
   "file_extension": ".py",
   "mimetype": "text/x-python",
   "name": "python",
   "nbconvert_exporter": "python",
   "pygments_lexer": "ipython2",
   "version": "2.7.10"
  }
 },
 "nbformat": 4,
 "nbformat_minor": 0
}
